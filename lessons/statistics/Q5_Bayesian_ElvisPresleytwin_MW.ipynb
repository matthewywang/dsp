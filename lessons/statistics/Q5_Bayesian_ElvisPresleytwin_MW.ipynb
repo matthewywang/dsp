{
 "cells": [
  {
   "cell_type": "markdown",
   "metadata": {},
   "source": [
    "**Hypotheses:**                          <br>\n",
    "A: Elvis Presley is an identical twin    <br>\n",
    "B: Elvis Presley is a fraternal twin     <br>\n",
    "\n",
    "**Evidence:**                            <br>\n",
    "E: Elvis Presley had a twin brother (same sex)  <br>\n",
    "\n",
    "Assumptions:   <br>\n",
    "Identical twins are always same sex.   <br>\n",
    "Fraternal twins are equally likely (50/50) to be same sex or opposite sex."
   ]
  },
  {
   "cell_type": "markdown",
   "metadata": {},
   "source": [
    "**Question - Determine Prob(A|E)**"
   ]
  },
  {
   "cell_type": "markdown",
   "metadata": {},
   "source": [
    "Prob(A|E) = Prob(A and E) / Prob(E)    <br>\n",
    "\n",
    "Prob(A and E) = Prob(A) x Prob(E|A)    <br>\n",
    "Prob(E) = Prob(A) x Prob(E|A) + Prob(B) x Prob(E|B)"
   ]
  },
  {
   "cell_type": "code",
   "execution_count": 1,
   "metadata": {},
   "outputs": [],
   "source": [
    "ProbA = 1/300\n",
    "ProbB = 1/125"
   ]
  },
  {
   "cell_type": "code",
   "execution_count": 3,
   "metadata": {},
   "outputs": [],
   "source": [
    "ProbE_given_A = 1.00     # identical twins are always same sex\n",
    "ProbE_given_B = 0.50     # fraternal twins are 50/50 same sex vs opposite sex"
   ]
  },
  {
   "cell_type": "code",
   "execution_count": 10,
   "metadata": {},
   "outputs": [
    {
     "data": {
      "text/plain": [
       "0.0033333333333333335"
      ]
     },
     "execution_count": 10,
     "metadata": {},
     "output_type": "execute_result"
    }
   ],
   "source": [
    "ProbAE = ProbA * ProbE_given_A\n",
    "ProbAE"
   ]
  },
  {
   "cell_type": "code",
   "execution_count": 7,
   "metadata": {},
   "outputs": [
    {
     "data": {
      "text/plain": [
       "0.007333333333333334"
      ]
     },
     "execution_count": 7,
     "metadata": {},
     "output_type": "execute_result"
    }
   ],
   "source": [
    "ProbE = ProbA * ProbE_given_A + ProbB * ProbE_given_B\n",
    "ProbE"
   ]
  },
  {
   "cell_type": "code",
   "execution_count": 12,
   "metadata": {},
   "outputs": [
    {
     "data": {
      "text/plain": [
       "0.45454545454545453"
      ]
     },
     "execution_count": 12,
     "metadata": {},
     "output_type": "execute_result"
    }
   ],
   "source": [
    "ProbA_given_E = ProbAE / ProbE\n",
    "ProbA_given_E"
   ]
  }
 ],
 "metadata": {
  "kernelspec": {
   "display_name": "Python 3",
   "language": "python",
   "name": "python3"
  },
  "language_info": {
   "codemirror_mode": {
    "name": "ipython",
    "version": 3
   },
   "file_extension": ".py",
   "mimetype": "text/x-python",
   "name": "python",
   "nbconvert_exporter": "python",
   "pygments_lexer": "ipython3",
   "version": "3.7.6"
  }
 },
 "nbformat": 4,
 "nbformat_minor": 4
}
