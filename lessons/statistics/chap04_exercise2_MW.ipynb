{
 "cells": [
  {
   "cell_type": "markdown",
   "metadata": {},
   "source": [
    "# Examples and Exercises from Think Stats, 2nd Edition\n",
    "\n",
    "http://thinkstats2.com\n",
    "\n",
    "Copyright 2016 Allen B. Downey\n",
    "\n",
    "MIT License: https://opensource.org/licenses/MIT\n"
   ]
  },
  {
   "cell_type": "code",
   "execution_count": 2,
   "metadata": {},
   "outputs": [],
   "source": [
    "from __future__ import print_function, division\n",
    "\n",
    "%matplotlib inline\n",
    "\n",
    "import numpy as np\n",
    "\n",
    "import nsfg\n",
    "import first\n",
    "import thinkstats2\n",
    "import thinkplot"
   ]
  },
  {
   "cell_type": "markdown",
   "metadata": {},
   "source": [
    "## Examples\n",
    "\n",
    "One more time, I'll load the data from the NSFG."
   ]
  },
  {
   "cell_type": "code",
   "execution_count": 3,
   "metadata": {},
   "outputs": [],
   "source": [
    "live, firsts, others = first.MakeFrames()"
   ]
  },
  {
   "cell_type": "markdown",
   "metadata": {},
   "source": [
    "And compute the distribution of birth weight for first babies and others."
   ]
  },
  {
   "cell_type": "code",
   "execution_count": 4,
   "metadata": {},
   "outputs": [
    {
     "name": "stdout",
     "output_type": "stream",
     "text": [
      "Firsts 4413 4363\n",
      "Others 4735 4675\n"
     ]
    }
   ],
   "source": [
    "first_wgt = firsts.totalwgt_lb\n",
    "first_wgt_dropna = first_wgt.dropna()\n",
    "print('Firsts', len(first_wgt), len(first_wgt_dropna))\n",
    " \n",
    "other_wgt = others.totalwgt_lb\n",
    "other_wgt_dropna = other_wgt.dropna()\n",
    "print('Others', len(other_wgt), len(other_wgt_dropna))\n",
    "\n",
    "first_pmf = thinkstats2.Pmf(first_wgt_dropna, label='first')\n",
    "other_pmf = thinkstats2.Pmf(other_wgt_dropna, label='other')"
   ]
  },
  {
   "cell_type": "markdown",
   "metadata": {},
   "source": [
    "We can plot the PMFs on the same scale, but it is hard to see if there is a difference."
   ]
  },
  {
   "cell_type": "code",
   "execution_count": 5,
   "metadata": {},
   "outputs": [
    {
     "data": {
      "image/png": "[encoded data removed]",
      "text/plain": [
       "<Figure size 432x288 with 1 Axes>"
      ]
     },
     "metadata": {
      "needs_background": "light"
     },
     "output_type": "display_data"
    }
   ],
   "source": [
    "width = 0.4 / 16\n",
    "\n",
    "# plot PMFs of birth weights for first babies and others\n",
    "thinkplot.PrePlot(2)\n",
    "thinkplot.Hist(first_pmf, align='right', width=width)\n",
    "thinkplot.Hist(other_pmf, align='left', width=width)\n",
    "thinkplot.Config(xlabel='Weight (pounds)', ylabel='PMF')"
   ]
  },
  {
   "cell_type": "markdown",
   "metadata": {},
   "source": [
    "`PercentileRank` computes the fraction of `scores` less than or equal to `your_score`."
   ]
  },
  {
   "cell_type": "code",
   "execution_count": 6,
   "metadata": {},
   "outputs": [],
   "source": [
    "def PercentileRank(scores, your_score):\n",
    "    count = 0\n",
    "    for score in scores:\n",
    "        if score <= your_score:\n",
    "            count += 1\n",
    "\n",
    "    percentile_rank = 100.0 * count / len(scores)\n",
    "    return percentile_rank"
   ]
  },
  {
   "cell_type": "markdown",
   "metadata": {},
   "source": [
    "If this is the list of scores."
   ]
  },
  {
   "cell_type": "code",
   "execution_count": 7,
   "metadata": {},
   "outputs": [],
   "source": [
    "t = [55, 66, 77, 88, 99]"
   ]
  },
  {
   "cell_type": "markdown",
   "metadata": {},
   "source": [
    "And you got the 88, your percentile rank is 80."
   ]
  },
  {
   "cell_type": "code",
   "execution_count": 8,
   "metadata": {},
   "outputs": [
    {
     "data": {
      "text/plain": [
       "80.0"
      ]
     },
     "execution_count": 8,
     "metadata": {},
     "output_type": "execute_result"
    }
   ],
   "source": [
    "PercentileRank(t, 88)"
   ]
  },
  {
   "cell_type": "markdown",
   "metadata": {},
   "source": [
    "`Percentile` takes a percentile rank and computes the corresponding percentile. "
   ]
  },
  {
   "cell_type": "code",
   "execution_count": 15,
   "metadata": {},
   "outputs": [],
   "source": [
    "def Percentile(scores, percentile_rank):\n",
    "    scores.sort()\n",
    "    for score in scores:\n",
    "        if PercentileRank(scores, score) >= percentile_rank:\n",
    "            return score"
   ]
  },
  {
   "cell_type": "markdown",
   "metadata": {},
   "source": [
    "The median is the 50th percentile, which is 77."
   ]
  },
  {
   "cell_type": "code",
   "execution_count": 16,
   "metadata": {},
   "outputs": [
    {
     "data": {
      "text/plain": [
       "77"
      ]
     },
     "execution_count": 16,
     "metadata": {},
     "output_type": "execute_result"
    }
   ],
   "source": [
    "Percentile(t, 50)"
   ]
  },
  {
   "cell_type": "markdown",
   "metadata": {},
   "source": [
    "Here's a more efficient way to compute percentiles."
   ]
  },
  {
   "cell_type": "code",
   "execution_count": 17,
   "metadata": {},
   "outputs": [],
   "source": [
    "def Percentile2(scores, percentile_rank):\n",
    "    scores.sort()\n",
    "    index = percentile_rank * (len(scores)-1) // 100\n",
    "    return scores[index]"
   ]
  },
  {
   "cell_type": "markdown",
   "metadata": {},
   "source": [
    "Let's hope we get the same answer."
   ]
  },
  {
   "cell_type": "code",
   "execution_count": 18,
   "metadata": {},
   "outputs": [
    {
     "data": {
      "text/plain": [
       "77"
      ]
     },
     "execution_count": 18,
     "metadata": {},
     "output_type": "execute_result"
    }
   ],
   "source": [
    "Percentile2(t, 50)"
   ]
  },
  {
   "cell_type": "code",
   "execution_count": 19,
   "metadata": {},
   "outputs": [
    {
     "data": {
      "text/plain": [
       "77"
      ]
     },
     "execution_count": 19,
     "metadata": {},
     "output_type": "execute_result"
    }
   ],
   "source": [
    "Percentile2(t, 60)"
   ]
  },
  {
   "cell_type": "code",
   "execution_count": 20,
   "metadata": {},
   "outputs": [
    {
     "data": {
      "text/plain": [
       "77"
      ]
     },
     "execution_count": 20,
     "metadata": {},
     "output_type": "execute_result"
    }
   ],
   "source": [
    "Percentile2(t, 70)"
   ]
  },
  {
   "cell_type": "code",
   "execution_count": 21,
   "metadata": {},
   "outputs": [
    {
     "data": {
      "text/plain": [
       "88"
      ]
     },
     "execution_count": 21,
     "metadata": {},
     "output_type": "execute_result"
    }
   ],
   "source": [
    "Percentile2(t, 80)"
   ]
  },
  {
   "cell_type": "code",
   "execution_count": 23,
   "metadata": {},
   "outputs": [
    {
     "data": {
      "text/plain": [
       "88"
      ]
     },
     "execution_count": 23,
     "metadata": {},
     "output_type": "execute_result"
    }
   ],
   "source": [
    "Percentile2(t, 75)"
   ]
  },
  {
   "cell_type": "code",
   "execution_count": 22,
   "metadata": {},
   "outputs": [
    {
     "data": {
      "text/plain": [
       "3"
      ]
     },
     "execution_count": 22,
     "metadata": {},
     "output_type": "execute_result"
    }
   ],
   "source": [
    "10 // 3"
   ]
  },
  {
   "cell_type": "markdown",
   "metadata": {},
   "source": [
    "The Cumulative Distribution Function (CDF) is almost the same as `PercentileRank`.  The only difference is that the result is 0-1 instead of 0-100."
   ]
  },
  {
   "cell_type": "code",
   "execution_count": 24,
   "metadata": {},
   "outputs": [],
   "source": [
    "def EvalCdf(sample, x):\n",
    "    count = 0.0\n",
    "    for value in sample:\n",
    "        if value <= x:\n",
    "            count += 1\n",
    "\n",
    "    prob = count / len(sample)\n",
    "    return prob"
   ]
  },
  {
   "cell_type": "markdown",
   "metadata": {},
   "source": [
    "In this list"
   ]
  },
  {
   "cell_type": "code",
   "execution_count": 25,
   "metadata": {},
   "outputs": [],
   "source": [
    "t = [1, 2, 2, 3, 5]"
   ]
  },
  {
   "cell_type": "markdown",
   "metadata": {},
   "source": [
    "We can evaluate the CDF for various values:"
   ]
  },
  {
   "cell_type": "code",
   "execution_count": 26,
   "metadata": {},
   "outputs": [
    {
     "data": {
      "text/plain": [
       "0.0"
      ]
     },
     "execution_count": 26,
     "metadata": {},
     "output_type": "execute_result"
    }
   ],
   "source": [
    "EvalCdf(t, 0)"
   ]
  },
  {
   "cell_type": "code",
   "execution_count": 27,
   "metadata": {},
   "outputs": [
    {
     "data": {
      "text/plain": [
       "0.2"
      ]
     },
     "execution_count": 27,
     "metadata": {},
     "output_type": "execute_result"
    }
   ],
   "source": [
    "EvalCdf(t, 1)"
   ]
  },
  {
   "cell_type": "code",
   "execution_count": 28,
   "metadata": {},
   "outputs": [
    {
     "data": {
      "text/plain": [
       "0.6"
      ]
     },
     "execution_count": 28,
     "metadata": {},
     "output_type": "execute_result"
    }
   ],
   "source": [
    "EvalCdf(t, 2)"
   ]
  },
  {
   "cell_type": "code",
   "execution_count": 29,
   "metadata": {},
   "outputs": [
    {
     "data": {
      "text/plain": [
       "0.8"
      ]
     },
     "execution_count": 29,
     "metadata": {},
     "output_type": "execute_result"
    }
   ],
   "source": [
    "EvalCdf(t, 3)"
   ]
  },
  {
   "cell_type": "code",
   "execution_count": 30,
   "metadata": {},
   "outputs": [
    {
     "data": {
      "text/plain": [
       "0.8"
      ]
     },
     "execution_count": 30,
     "metadata": {},
     "output_type": "execute_result"
    }
   ],
   "source": [
    "EvalCdf(t, 4)"
   ]
  },
  {
   "cell_type": "code",
   "execution_count": 31,
   "metadata": {},
   "outputs": [
    {
     "data": {
      "text/plain": [
       "1.0"
      ]
     },
     "execution_count": 31,
     "metadata": {},
     "output_type": "execute_result"
    }
   ],
   "source": [
    "EvalCdf(t, 5)"
   ]
  },
  {
   "cell_type": "markdown",
   "metadata": {},
   "source": [
    "Here's an example using real data, the distribution of pregnancy length for live births."
   ]
  },
  {
   "cell_type": "code",
   "execution_count": 32,
   "metadata": {},
   "outputs": [
    {
     "data": {
      "image/png": "[encoded data removed]",
      "text/plain": [
       "<Figure size 432x288 with 1 Axes>"
      ]
     },
     "metadata": {
      "needs_background": "light"
     },
     "output_type": "display_data"
    }
   ],
   "source": [
    "cdf = thinkstats2.Cdf(live.prglngth, label='prglngth')\n",
    "thinkplot.Cdf(cdf)\n",
    "thinkplot.Config(xlabel='Pregnancy length (weeks)', ylabel='CDF', loc='upper left')"
   ]
  },
  {
   "cell_type": "markdown",
   "metadata": {},
   "source": [
    "`Cdf` provides `Prob`, which evaluates the CDF; that is, it computes the fraction of values less than or equal to the given value.  For example, 94% of pregnancy lengths are less than or equal to 41."
   ]
  },
  {
   "cell_type": "code",
   "execution_count": 33,
   "metadata": {},
   "outputs": [
    {
     "data": {
      "text/plain": [
       "0.9406427634455619"
      ]
     },
     "execution_count": 33,
     "metadata": {},
     "output_type": "execute_result"
    }
   ],
   "source": [
    "cdf.Prob(41)"
   ]
  },
  {
   "cell_type": "markdown",
   "metadata": {
    "collapsed": true
   },
   "source": [
    "`Value` evaluates the inverse CDF; given a fraction, it computes the corresponding value.  For example, the median is the value that corresponds to 0.5."
   ]
  },
  {
   "cell_type": "code",
   "execution_count": 34,
   "metadata": {},
   "outputs": [
    {
     "data": {
      "text/plain": [
       "39"
      ]
     },
     "execution_count": 34,
     "metadata": {},
     "output_type": "execute_result"
    }
   ],
   "source": [
    "cdf.Value(0.5)"
   ]
  },
  {
   "cell_type": "markdown",
   "metadata": {},
   "source": [
    "In general, CDFs are a good way to visualize distributions.  They are not as noisy as PMFs, and if you plot several CDFs on the same axes, any differences between them are apparent."
   ]
  },
  {
   "cell_type": "code",
   "execution_count": 35,
   "metadata": {},
   "outputs": [
    {
     "data": {
      "image/png": "[encoded data removed]",
      "text/plain": [
       "<Figure size 432x288 with 1 Axes>"
      ]
     },
     "metadata": {
      "needs_background": "light"
     },
     "output_type": "display_data"
    }
   ],
   "source": [
    "first_cdf = thinkstats2.Cdf(firsts.totalwgt_lb, label='first')\n",
    "other_cdf = thinkstats2.Cdf(others.totalwgt_lb, label='other')\n",
    "\n",
    "thinkplot.PrePlot(2)\n",
    "thinkplot.Cdfs([first_cdf, other_cdf])\n",
    "thinkplot.Config(xlabel='Weight (pounds)', ylabel='CDF')"
   ]
  },
  {
   "cell_type": "markdown",
   "metadata": {},
   "source": [
    "In this example, we can see that first babies are slightly, but consistently, lighter than others.\n",
    "\n",
    "We can use the CDF of birth weight to compute percentile-based statistics."
   ]
  },
  {
   "cell_type": "code",
   "execution_count": 36,
   "metadata": {},
   "outputs": [],
   "source": [
    "weights = live.totalwgt_lb\n",
    "live_cdf = thinkstats2.Cdf(weights, label='live')"
   ]
  },
  {
   "cell_type": "code",
   "execution_count": 45,
   "metadata": {},
   "outputs": [
    {
     "data": {
      "text/plain": [
       "9148"
      ]
     },
     "execution_count": 45,
     "metadata": {},
     "output_type": "execute_result"
    }
   ],
   "source": [
    "len(weights)"
   ]
  },
  {
   "cell_type": "markdown",
   "metadata": {},
   "source": [
    "Again, the median is the 50th percentile."
   ]
  },
  {
   "cell_type": "code",
   "execution_count": 37,
   "metadata": {},
   "outputs": [
    {
     "data": {
      "text/plain": [
       "7.375"
      ]
     },
     "execution_count": 37,
     "metadata": {},
     "output_type": "execute_result"
    }
   ],
   "source": [
    "median = live_cdf.Percentile(50)\n",
    "median"
   ]
  },
  {
   "cell_type": "markdown",
   "metadata": {},
   "source": [
    "The interquartile range is the interval from the 25th to 75th percentile."
   ]
  },
  {
   "cell_type": "code",
   "execution_count": 38,
   "metadata": {},
   "outputs": [
    {
     "data": {
      "text/plain": [
       "(6.5, 8.125)"
      ]
     },
     "execution_count": 38,
     "metadata": {},
     "output_type": "execute_result"
    }
   ],
   "source": [
    "iqr = (live_cdf.Percentile(25), live_cdf.Percentile(75))\n",
    "iqr"
   ]
  },
  {
   "cell_type": "markdown",
   "metadata": {},
   "source": [
    "We can use the CDF to look up the percentile rank of a particular value.  For example, my second daughter was 10.2 pounds at birth, which is near the 99th percentile."
   ]
  },
  {
   "cell_type": "code",
   "execution_count": 39,
   "metadata": {},
   "outputs": [
    {
     "data": {
      "text/plain": [
       "98.82717415357381"
      ]
     },
     "execution_count": 39,
     "metadata": {},
     "output_type": "execute_result"
    }
   ],
   "source": [
    "live_cdf.PercentileRank(10.2)"
   ]
  },
  {
   "cell_type": "markdown",
   "metadata": {},
   "source": [
    "If we draw a random sample from the observed weights and map each weigh to its percentile rank."
   ]
  },
  {
   "cell_type": "code",
   "execution_count": 40,
   "metadata": {},
   "outputs": [],
   "source": [
    "sample = np.random.choice(weights, 100, replace=True)\n",
    "ranks = [live_cdf.PercentileRank(x) for x in sample]"
   ]
  },
  {
   "cell_type": "markdown",
   "metadata": {},
   "source": [
    "The resulting list of ranks should be approximately uniform from 0-1."
   ]
  },
  {
   "cell_type": "code",
   "execution_count": 41,
   "metadata": {},
   "outputs": [
    {
     "data": {
      "image/png": "[encoded data removed]",
      "text/plain": [
       "<Figure size 432x288 with 1 Axes>"
      ]
     },
     "metadata": {
      "needs_background": "light"
     },
     "output_type": "display_data"
    }
   ],
   "source": [
    "rank_cdf = thinkstats2.Cdf(ranks)\n",
    "thinkplot.Cdf(rank_cdf)\n",
    "thinkplot.Config(xlabel='Percentile rank', ylabel='CDF')"
   ]
  },
  {
   "cell_type": "markdown",
   "metadata": {},
   "source": [
    "That observation is the basis of `Cdf.Sample`, which generates a random sample from a Cdf.  Here's an example."
   ]
  },
  {
   "cell_type": "code",
   "execution_count": 44,
   "metadata": {},
   "outputs": [
    {
     "data": {
      "text/plain": [
       "array([ 8.4375,  6.75  ,  7.5   ,  6.8125,  7.625 ,  7.875 ,  6.375 ,\n",
       "        6.25  ,  6.1875,  6.125 ,  4.    ,  7.6875,  6.0625,  6.75  ,\n",
       "        7.8125,  5.125 , 10.0625,  6.6875,  7.    ,  7.4375,  8.    ,\n",
       "        8.3125,  6.4375,  6.4375,  9.3125,  8.5   ,  7.125 ,  7.5   ,\n",
       "        7.1875,  7.875 ,  7.625 ,  4.9375,  6.9375,  8.1875,  8.125 ,\n",
       "        6.5625,  6.125 ,  8.8125,  7.1875,  8.5   ,  8.3125,  9.0625,\n",
       "        6.    ,  7.4375,  5.375 ,  7.9375,  9.375 ,  7.25  ,  6.8125,\n",
       "        6.625 ,  4.3125,  6.875 ,  8.375 ,  6.375 ,  8.0625,  9.125 ,\n",
       "        8.5   ,  6.75  ,  6.75  ,  8.375 ,  7.875 ,  5.25  ,  6.    ,\n",
       "        6.3125,  8.125 ,  7.5625,  9.625 ,  7.    ,  9.5   ,  3.4375,\n",
       "        7.0625,  7.125 ,  8.25  ,  8.375 ,  8.1875,  7.    ,  5.375 ,\n",
       "        7.3125,  7.1875,  7.1875,  6.0625,  6.4375,  8.5625,  9.3125,\n",
       "        5.75  ,  8.    ,  7.9375,  7.1875,  7.6875,  7.3125,  7.9375,\n",
       "        9.25  ,  6.6875,  4.625 ,  7.1875,  9.    ,  6.8125,  6.625 ,\n",
       "        4.    ,  5.9375,  7.625 ,  7.25  ,  7.375 ,  8.25  ,  9.3125,\n",
       "        8.1875,  6.375 ,  8.6875,  7.8125,  7.5   ,  7.5   ,  7.25  ,\n",
       "        8.6875,  9.1875,  7.125 ,  6.125 ,  8.8125,  6.8125,  6.4375,\n",
       "        4.    ,  8.0625,  7.5   ,  8.375 ,  6.25  ,  5.9375,  8.    ,\n",
       "        6.1875,  8.4375, 10.125 ,  8.    ,  7.6875,  8.75  ,  7.1875,\n",
       "        4.375 ,  8.125 ,  6.6875,  7.5   ,  7.0625,  8.5   ,  8.375 ,\n",
       "        5.375 ,  7.0625,  9.    ,  7.    ,  6.6875,  6.25  ,  7.6875,\n",
       "        7.5   ,  8.4375,  6.5625,  7.125 ,  6.3125,  7.375 ,  5.75  ,\n",
       "        8.375 ,  7.75  ,  4.4375,  7.875 ,  6.625 ,  7.4375,  6.625 ,\n",
       "        7.    ,  7.25  ,  7.0625,  6.0625,  6.1875,  6.875 ,  6.25  ,\n",
       "        9.5   ,  6.6875,  6.4375,  6.    ,  8.8125,  7.375 ,  5.625 ,\n",
       "        1.5625, 11.    ,  6.4375,  4.4375,  7.3125,  6.125 ,  3.25  ,\n",
       "        8.    ,  7.9375,  9.3125,  6.1875,  7.1875,  7.125 ,  8.5625,\n",
       "        7.1875,  9.75  ,  6.0625,  7.1875,  8.375 ,  1.125 ,  6.5625,\n",
       "        8.3125,  7.125 ,  7.125 ,  6.5   ,  7.75  ,  7.    ,  6.9375,\n",
       "        6.0625,  8.75  ,  8.1875,  5.25  ,  2.    ,  5.625 ,  6.375 ,\n",
       "        8.    ,  6.6875,  7.375 ,  4.3125,  3.4375,  5.1875,  6.125 ,\n",
       "        7.4375,  6.4375,  5.1875,  7.5   ,  9.375 ,  8.25  ,  6.25  ,\n",
       "        8.3125,  8.8125,  7.75  ,  7.375 ,  8.5625,  7.8125,  7.375 ,\n",
       "        7.625 ,  7.    ,  7.375 ,  7.    ,  8.25  ,  7.5625,  6.9375,\n",
       "        6.625 ,  6.25  ,  6.875 ,  7.375 ,  7.3125,  6.4375,  7.    ,\n",
       "        7.4375,  7.    ,  7.625 ,  7.5625,  8.5   ,  7.1875,  3.875 ,\n",
       "        6.6875,  7.375 ,  8.    ,  9.5   ,  7.375 ,  8.75  ,  7.    ,\n",
       "        7.375 ,  9.6875,  6.375 ,  6.5   ,  8.    ,  7.125 ,  7.125 ,\n",
       "       10.0625, 10.75  ,  7.8125,  7.875 ,  6.3125,  6.0625,  5.9375,\n",
       "        7.4375,  7.5   , 10.1875,  9.5   ,  9.0625,  8.4375,  8.625 ,\n",
       "        7.375 ,  8.    ,  7.125 ,  7.    ,  6.625 ,  7.5   ,  8.5   ,\n",
       "        9.125 ,  7.125 ,  9.25  ,  7.3125,  6.75  ,  4.125 ,  7.    ,\n",
       "        7.125 ,  7.125 ,  8.625 ,  7.75  ,  7.1875,  5.    ,  8.25  ,\n",
       "        8.25  ,  8.125 ,  6.1875,  6.    ,  6.75  ,  6.125 ,  6.75  ,\n",
       "        6.5   ,  9.0625,  6.375 ,  7.75  ,  7.    ,  7.4375,  6.1875,\n",
       "        6.0625,  7.75  ,  6.75  ,  7.125 ,  7.25  ,  7.    ,  7.9375,\n",
       "        8.875 ,  6.375 ,  7.    ,  7.375 ,  8.5   ,  9.5625,  8.8125,\n",
       "        8.25  ,  4.1875,  8.    ,  6.3125,  6.3125,  6.4375,  9.3125,\n",
       "        7.875 ,  7.375 ,  9.1875,  6.5625,  6.8125,  6.875 ,  7.5   ,\n",
       "        7.1875,  7.375 ,  5.6875,  7.875 ,  5.    ,  6.6875,  6.25  ,\n",
       "        7.6875,  6.4375,  7.4375,  6.875 ,  8.0625,  8.3125,  6.5   ,\n",
       "        7.375 ,  7.125 ,  7.625 ,  4.5625,  8.25  ,  7.0625,  6.0625,\n",
       "        9.625 ,  7.375 ,  7.375 ,  6.8125,  8.5625,  7.    ,  9.    ,\n",
       "        6.6875,  9.    ,  7.6875,  3.25  ,  8.8125,  6.6875,  7.625 ,\n",
       "        9.125 ,  7.875 ,  7.25  ,  7.875 ,  6.1875,  6.4375,  6.4375,\n",
       "        8.75  ,  7.875 ,  7.4375,  6.5625,  7.    ,  5.5   ,  7.    ,\n",
       "        7.5625,  6.75  ,  6.    ,  8.75  ,  7.25  ,  7.875 ,  7.    ,\n",
       "        8.3125,  6.125 ,  8.375 ,  3.4375,  7.5625,  7.25  ,  5.9375,\n",
       "        7.9375,  7.5   ,  8.125 ,  5.9375,  9.625 ,  8.125 ,  7.6875,\n",
       "        8.5   ,  6.75  ,  7.4375,  6.3125,  6.875 ,  6.4375,  8.8125,\n",
       "        7.125 ,  7.125 ,  7.125 ,  8.    ,  8.5625,  8.9375,  6.375 ,\n",
       "        8.    ,  7.0625,  5.375 ,  9.8125,  5.375 ,  6.4375,  5.5   ,\n",
       "        6.875 ,  7.375 ,  7.875 ,  5.375 ,  5.1875,  7.375 ,  7.6875,\n",
       "        5.875 ,  6.    ,  7.125 ,  8.125 ,  8.    ,  6.625 ,  7.375 ,\n",
       "        7.    ,  6.5   ,  6.6875,  7.875 ,  8.6875,  3.375 , 10.125 ,\n",
       "        6.3125,  7.625 ,  8.5625,  9.3125,  8.75  ,  7.3125,  9.8125,\n",
       "        7.75  ,  6.4375,  6.75  ,  7.875 ,  8.0625,  8.125 ,  7.5   ,\n",
       "        4.    ,  7.125 ,  7.5   ,  8.4375,  6.8125,  6.375 ,  7.75  ,\n",
       "        7.    ,  6.9375,  6.6875,  6.5   ,  7.5   ,  6.75  ,  6.    ,\n",
       "        7.125 ,  6.5625,  9.    ,  7.3125,  6.6875,  7.625 ,  7.5625,\n",
       "        7.6875,  8.125 ,  7.8125,  7.3125,  7.5625,  7.4375,  7.4375,\n",
       "        8.4375,  8.625 ,  4.125 ,  6.75  ,  9.125 ,  8.875 ,  7.    ,\n",
       "        7.4375,  6.4375,  8.5625,  5.375 ,  7.625 ,  7.3125,  7.75  ,\n",
       "        6.9375,  7.375 ,  9.4375,  7.9375,  9.0625,  8.25  ,  8.5625,\n",
       "        3.    ,  6.4375,  6.25  ,  7.8125,  7.875 ,  7.5   ,  8.8125,\n",
       "        7.25  ,  7.    ,  6.875 ,  6.6875,  5.1875,  7.375 ,  7.75  ,\n",
       "        7.375 ,  8.4375,  7.5   ,  7.875 ,  7.9375,  7.75  ,  7.3125,\n",
       "        6.0625,  6.5625,  6.4375,  7.    ,  6.875 ,  9.6875,  7.5625,\n",
       "        8.125 ,  3.5   ,  9.3125,  8.75  ,  6.375 ,  5.3125,  6.1875,\n",
       "        7.4375,  8.375 ,  7.375 ,  5.6875,  6.3125,  7.3125,  8.1875,\n",
       "        8.6875,  6.0625,  7.25  ,  7.    ,  8.4375,  6.3125,  8.125 ,\n",
       "        6.0625,  7.125 ,  7.25  ,  8.    ,  5.375 ,  8.25  ,  7.4375,\n",
       "        6.6875,  8.5625,  9.    ,  8.    ,  7.5625,  5.375 ,  6.375 ,\n",
       "        6.375 ,  7.25  ,  7.    ,  7.125 ,  7.125 ,  5.9375,  6.9375,\n",
       "        7.5   ,  7.6875,  6.125 ,  8.5   ,  9.    ,  4.375 ,  8.375 ,\n",
       "        5.1875,  7.375 ,  8.4375,  3.375 ,  7.8125,  7.625 ,  6.3125,\n",
       "        7.3125,  6.375 , 10.125 ,  7.75  ,  9.25  ,  5.1875,  7.125 ,\n",
       "        7.125 ,  5.375 ,  7.75  ,  9.3125,  9.625 ,  7.125 ,  8.4375,\n",
       "        8.8125,  8.    ,  5.1875,  5.6875,  8.875 ,  6.75  ,  7.375 ,\n",
       "        6.3125,  7.9375,  8.625 ,  7.    ,  1.375 ,  8.4375,  8.5625,\n",
       "        7.    ,  6.    ,  5.375 ,  5.6875,  6.9375,  8.3125,  7.6875,\n",
       "        8.625 ,  6.3125,  9.125 ,  8.    ,  7.5625,  6.375 ,  6.125 ,\n",
       "        8.6875,  6.3125,  7.875 ,  5.75  ,  7.9375,  8.3125,  7.125 ,\n",
       "        1.0625,  8.5   ,  7.3125,  8.5625,  7.0625,  5.1875,  5.6875,\n",
       "        7.375 ,  7.5   ,  5.5   ,  5.    ,  9.    ,  7.5625,  7.1875,\n",
       "        8.1875,  4.4375,  8.375 ,  6.875 ,  8.375 ,  8.    ,  8.25  ,\n",
       "        8.4375,  6.5   ,  7.5625,  7.6875,  6.875 ,  7.4375,  7.75  ,\n",
       "        7.    ,  6.3125,  7.125 ,  7.875 ,  9.    ,  6.75  ,  7.    ,\n",
       "        6.    ,  7.5   ,  7.5   ,  9.75  ,  7.    ,  6.0625,  7.5625,\n",
       "        8.25  ,  7.6875,  7.125 ,  6.875 ,  8.5   ,  7.1875,  7.875 ,\n",
       "        6.    ,  7.625 ,  6.5625,  6.25  ,  6.    ,  6.9375,  8.125 ,\n",
       "        5.3125,  5.6875,  6.5625,  8.6875,  4.5   ,  8.3125,  8.5   ,\n",
       "        8.    ,  7.    ,  7.4375,  9.9375,  8.8125,  6.6875,  7.875 ,\n",
       "        7.125 ,  7.625 ,  7.5625,  8.4375,  5.    ,  6.8125,  6.625 ,\n",
       "        8.5625,  2.25  ,  7.    ,  6.125 , 12.375 ,  6.3125,  9.25  ,\n",
       "        6.1875,  7.3125,  7.0625,  6.1875,  6.8125,  9.75  ,  9.125 ,\n",
       "        8.1875,  7.5   ,  5.5625,  6.4375,  6.125 ,  8.3125,  6.5   ,\n",
       "        6.    ,  8.    ,  8.    ,  6.5   ,  6.875 ,  8.8125,  9.3125,\n",
       "        7.3125,  8.0625,  7.875 ,  6.4375,  6.    ,  7.375 ,  5.375 ,\n",
       "        8.625 ,  6.3125,  8.75  ,  8.875 ,  6.4375,  5.8125,  7.1875,\n",
       "        8.5   ,  8.    ,  6.1875,  2.8125,  6.5   ,  9.875 ,  6.5625,\n",
       "        7.875 ,  7.3125,  8.8125,  7.75  ,  6.6875,  8.5   ,  9.125 ,\n",
       "        2.1875,  1.875 ,  5.625 ,  7.5625,  6.25  ,  7.625 ,  6.25  ,\n",
       "        6.1875, 11.0625,  7.25  ,  1.375 ,  8.0625,  7.5   ,  8.6875,\n",
       "        4.    ,  6.75  ,  6.5625,  8.8125,  7.375 ,  7.1875,  9.625 ,\n",
       "        5.75  ,  6.    ,  7.5   ,  7.625 ,  9.25  ,  7.125 ,  5.3125,\n",
       "        8.    ,  5.1875,  7.375 ,  5.    ,  5.375 ,  6.5   ,  6.9375,\n",
       "        7.6875,  8.125 ,  7.0625,  6.8125,  5.4375,  7.875 ,  7.9375,\n",
       "        5.375 ,  6.875 ,  7.875 ,  8.    ,  6.125 ,  7.75  ,  8.    ,\n",
       "        6.1875,  7.0625,  6.1875,  5.5625,  8.375 ,  8.875 ,  6.0625,\n",
       "        5.75  ,  5.375 ,  4.1875,  8.875 ,  7.25  ,  8.875 ,  7.0625,\n",
       "       10.0625,  7.5   ,  7.9375,  3.0625,  7.8125,  9.625 ,  6.75  ,\n",
       "        3.    , 10.8125,  6.6875,  7.    ,  9.125 ,  9.3125,  6.625 ,\n",
       "        6.25  ,  8.    ,  6.875 ,  8.375 ,  8.875 ,  7.25  ,  9.1875,\n",
       "        6.4375,  9.1875,  7.5   ,  8.5625,  6.5625,  5.75  ,  8.625 ,\n",
       "        7.4375,  7.6875,  7.    ,  6.125 ,  7.125 ,  7.6875,  7.3125,\n",
       "        7.375 ,  6.    ,  7.0625,  7.9375,  6.125 ,  8.5625,  9.0625,\n",
       "        5.5   ,  7.375 ,  6.8125,  8.4375,  8.75  ,  6.4375,  8.375 ,\n",
       "        6.125 ,  7.25  ,  9.0625,  7.375 ,  7.25  ,  4.0625,  6.9375,\n",
       "        6.125 ,  8.9375,  8.1875,  6.4375,  8.125 ,  8.875 ,  5.8125,\n",
       "        9.625 ,  9.3125,  8.    ,  9.5   ,  7.9375,  8.3125,  6.    ,\n",
       "        7.0625,  7.5   ,  3.25  ,  7.1875,  6.    ,  8.6875,  9.5   ,\n",
       "        8.0625,  6.75  ,  8.375 ,  7.75  ,  5.    ,  7.3125,  7.875 ,\n",
       "        8.8125,  8.625 ,  8.875 ,  6.375 ,  7.875 ,  6.8125,  7.6875,\n",
       "        5.0625,  8.    ,  6.9375,  7.75  ,  8.6875,  7.0625,  7.    ,\n",
       "        8.1875,  7.625 ,  8.1875,  7.6875,  8.8125,  6.9375,  5.5   ,\n",
       "        7.75  ,  7.125 ,  6.8125,  5.125 ,  7.375 ,  6.375 ,  7.0625,\n",
       "        8.4375,  7.9375,  6.    ,  8.625 ,  6.8125,  5.0625,  5.4375,\n",
       "        6.125 ,  7.6875,  8.375 ,  6.8125,  8.125 ,  8.3125,  7.25  ,\n",
       "        8.0625,  6.875 ,  7.5   ,  7.4375,  8.9375,  6.4375,  6.    ,\n",
       "        3.125 , 10.125 ,  7.5625,  7.75  ,  7.0625,  2.125 ,  7.8125,\n",
       "        8.125 ,  8.125 ,  6.    ,  7.5   ,  8.125 ,  6.875 ,  6.625 ,\n",
       "        7.25  ,  7.875 ,  7.6875, 10.    ,  8.4375,  8.6875])"
      ]
     },
     "execution_count": 44,
     "metadata": {},
     "output_type": "execute_result"
    }
   ],
   "source": [
    "live_cdf.Sample(1000)"
   ]
  },
  {
   "cell_type": "code",
   "execution_count": 42,
   "metadata": {},
   "outputs": [
    {
     "data": {
      "image/png": "[encoded data removed]",
      "text/plain": [
       "<Figure size 432x288 with 1 Axes>"
      ]
     },
     "metadata": {
      "needs_background": "light"
     },
     "output_type": "display_data"
    }
   ],
   "source": [
    "resample = live_cdf.Sample(1000)\n",
    "thinkplot.Cdf(live_cdf)\n",
    "thinkplot.Cdf(thinkstats2.Cdf(resample, label='resample'))\n",
    "thinkplot.Config(xlabel='Birth weight (pounds)', ylabel='CDF')"
   ]
  },
  {
   "cell_type": "code",
   "execution_count": 48,
   "metadata": {},
   "outputs": [],
   "source": [
    "def PositionToPercentile(position, field_size):\n",
    "    beat = field_size - position + 1\n",
    "    percentile = 100.0 * beat / field_size\n",
    "    return percentile"
   ]
  },
  {
   "cell_type": "code",
   "execution_count": 49,
   "metadata": {},
   "outputs": [],
   "source": [
    "def PercentileToPosition(percentile, field_size):\n",
    "    beat = percentile * field_size / 100.0\n",
    "    position = field_size - beat + 1\n",
    "    return position"
   ]
  },
  {
   "cell_type": "code",
   "execution_count": 50,
   "metadata": {},
   "outputs": [
    {
     "data": {
      "text/plain": [
       "90.234375"
      ]
     },
     "execution_count": 50,
     "metadata": {},
     "output_type": "execute_result"
    }
   ],
   "source": [
    "PositionToPercentile(26,256)"
   ]
  },
  {
   "cell_type": "code",
   "execution_count": 51,
   "metadata": {},
   "outputs": [
    {
     "data": {
      "text/plain": [
       "17.69986"
      ]
     },
     "execution_count": 51,
     "metadata": {},
     "output_type": "execute_result"
    }
   ],
   "source": [
    "PercentileToPosition(90.234,171)"
   ]
  },
  {
   "cell_type": "markdown",
   "metadata": {},
   "source": [
    "This confirms that the random sample has the same distribution as the original data."
   ]
  },
  {
   "cell_type": "markdown",
   "metadata": {
    "collapsed": true
   },
   "source": [
    "## Exercises"
   ]
  },
  {
   "cell_type": "markdown",
   "metadata": {
    "collapsed": true
   },
   "source": [
    "**Exercise 4.1:** How much did you weigh at birth? If you don’t know, call your mother or someone else who knows. Using the NSFG data (all live births), compute the distribution of birth weights and use it to find your percentile rank. If you were a first baby, find your percentile rank in the distribution for first babies. Otherwise use the distribution for others. If you are in the 90th percentile or higher, call your mother back and apologize."
   ]
  },
  {
   "cell_type": "code",
   "execution_count": 26,
   "metadata": {},
   "outputs": [],
   "source": [
    "# Solution goes here"
   ]
  },
  {
   "cell_type": "code",
   "execution_count": 27,
   "metadata": {},
   "outputs": [],
   "source": [
    "# Solution goes here"
   ]
  },
  {
   "cell_type": "markdown",
   "metadata": {
    "collapsed": true
   },
   "source": [
    "**Exercise 4.2:** The numbers generated by `numpy.random.random` are supposed to be uniform between 0 and 1; that is, every value in the range should have the same probability.\n",
    "\n",
    "Generate 1000 numbers from `numpy.random.random` and plot their PMF.  What goes wrong?\n",
    "\n",
    "Now plot the CDF. Is the distribution uniform?"
   ]
  },
  {
   "cell_type": "code",
   "execution_count": 71,
   "metadata": {},
   "outputs": [],
   "source": [
    "random_list = np.random.random(1000)"
   ]
  },
  {
   "cell_type": "code",
   "execution_count": 72,
   "metadata": {},
   "outputs": [],
   "source": [
    "random_pmf = thinkstats2.Pmf(random_list, label='random')"
   ]
  },
  {
   "cell_type": "code",
   "execution_count": 73,
   "metadata": {},
   "outputs": [
    {
     "data": {
      "image/png": "[encoded data removed]",
      "text/plain": [
       "<Figure size 432x288 with 1 Axes>"
      ]
     },
     "metadata": {
      "needs_background": "light"
     },
     "output_type": "display_data"
    }
   ],
   "source": [
    "thinkplot.Pmf(random_pmf)\n",
    "thinkplot.Config(xlabel='random floats', ylabel='PMF')"
   ]
  },
  {
   "cell_type": "code",
   "execution_count": 74,
   "metadata": {},
   "outputs": [
    {
     "data": {
      "image/png": "[encoded data removed]",
      "text/plain": [
       "<Figure size 432x288 with 1 Axes>"
      ]
     },
     "metadata": {
      "needs_background": "light"
     },
     "output_type": "display_data"
    }
   ],
   "source": [
    "random_cdf = thinkstats2.Cdf(random_list, label='random')\n",
    "thinkplot.Cdf(random_cdf)\n",
    "thinkplot.Config(xlabel='random', ylabel='CDF', loc='upper left')"
   ]
  },
  {
   "cell_type": "markdown",
   "metadata": {},
   "source": [
    "Yes the distribution is uniform (see CDF above)."
   ]
  },
  {
   "cell_type": "code",
   "execution_count": 66,
   "metadata": {},
   "outputs": [],
   "source": [
    "import inspect"
   ]
  },
  {
   "cell_type": "code",
   "execution_count": 67,
   "metadata": {},
   "outputs": [
    {
     "name": "stdout",
     "output_type": "stream",
     "text": [
      "class Cdf:\n",
      "    \"\"\"Represents a cumulative distribution function.\n",
      "\n",
      "    Attributes:\n",
      "        xs: sequence of values\n",
      "        ps: sequence of probabilities\n",
      "        label: string used as a graph label.\n",
      "    \"\"\"\n",
      "    def __init__(self, obj=None, ps=None, label=None):\n",
      "        \"\"\"Initializes.\n",
      "        \n",
      "        If ps is provided, obj must be the corresponding list of values.\n",
      "\n",
      "        obj: Hist, Pmf, Cdf, Pdf, dict, pandas Series, list of pairs\n",
      "        ps: list of cumulative probabilities\n",
      "        label: string label\n",
      "        \"\"\"\n",
      "        self.label = label if label is not None else DEFAULT_LABEL\n",
      "\n",
      "        if isinstance(obj, (_DictWrapper, Cdf, Pdf)):\n",
      "            if not label:\n",
      "                self.label = label if label is not None else obj.label\n",
      "\n",
      "        if obj is None:\n",
      "            # caller does not provide obj, make an empty Cdf\n",
      "            self.xs = np.asarray([])\n",
      "            self.ps = np.asarray([])\n",
      "            if ps is not None:\n",
      "                logging.warning(\"Cdf: can't pass ps without also passing xs.\")\n",
      "            return\n",
      "        else:\n",
      "            # if the caller provides xs and ps, just store them          \n",
      "            if ps is not None:\n",
      "                if isinstance(ps, str):\n",
      "                    logging.warning(\"Cdf: ps can't be a string\")\n",
      "\n",
      "                self.xs = np.asarray(obj)\n",
      "                self.ps = np.asarray(ps)\n",
      "                return\n",
      "\n",
      "        # caller has provided just obj, not ps\n",
      "        if isinstance(obj, Cdf):\n",
      "            self.xs = copy.copy(obj.xs)\n",
      "            self.ps = copy.copy(obj.ps)\n",
      "            return\n",
      "\n",
      "        if isinstance(obj, _DictWrapper):\n",
      "            dw = obj\n",
      "        else:\n",
      "            dw = Hist(obj)\n",
      "\n",
      "        if len(dw) == 0:\n",
      "            self.xs = np.asarray([])\n",
      "            self.ps = np.asarray([])\n",
      "            return\n",
      "\n",
      "        xs, freqs = zip(*sorted(dw.Items()))\n",
      "        self.xs = np.asarray(xs)\n",
      "        self.ps = np.cumsum(freqs, dtype=np.float)\n",
      "        self.ps /= self.ps[-1]\n",
      "\n",
      "    def __str__(self):\n",
      "        cls = self.__class__.__name__\n",
      "        if self.label == DEFAULT_LABEL:\n",
      "            return '%s(%s, %s)' % (cls, str(self.xs), str(self.ps))\n",
      "        else:\n",
      "            return self.label\n",
      "\n",
      "    def __repr__(self):\n",
      "        cls = self.__class__.__name__\n",
      "        if self.label == DEFAULT_LABEL:\n",
      "            return '%s(%s, %s)' % (cls, str(self.xs), str(self.ps))\n",
      "        else:\n",
      "            return '%s(%s, %s, %s)' % (cls, str(self.xs), str(self.ps), \n",
      "                                       repr(self.label))\n",
      "\n",
      "    def __len__(self):\n",
      "        return len(self.xs)\n",
      "\n",
      "    def __getitem__(self, x):\n",
      "        return self.Prob(x)\n",
      "\n",
      "    def __setitem__(self):\n",
      "        raise UnimplementedMethodException()\n",
      "\n",
      "    def __delitem__(self):\n",
      "        raise UnimplementedMethodException()\n",
      "\n",
      "    def __eq__(self, other):\n",
      "        return np.all(self.xs == other.xs) and np.all(self.ps == other.ps)\n",
      "\n",
      "    def Print(self):\n",
      "        \"\"\"Prints the values and freqs/probs in ascending order.\"\"\"\n",
      "        for val, prob in zip(self.xs, self.ps):\n",
      "            print(val, prob)\n",
      "\n",
      "    def Copy(self, label=None):\n",
      "        \"\"\"Returns a copy of this Cdf.\n",
      "\n",
      "        label: string label for the new Cdf\n",
      "        \"\"\"\n",
      "        if label is None:\n",
      "            label = self.label\n",
      "        return Cdf(list(self.xs), list(self.ps), label=label)\n",
      "\n",
      "    def MakePmf(self, label=None):\n",
      "        \"\"\"Makes a Pmf.\"\"\"\n",
      "        if label is None:\n",
      "            label = self.label\n",
      "        return Pmf(self, label=label)\n",
      "\n",
      "    def Items(self):\n",
      "        \"\"\"Returns a sorted sequence of (value, probability) pairs.\n",
      "\n",
      "        Note: in Python3, returns an iterator.\n",
      "        \"\"\"\n",
      "        a = self.ps\n",
      "        b = np.roll(a, 1)\n",
      "        b[0] = 0\n",
      "        return zip(self.xs, a-b)\n",
      "\n",
      "    def Shift(self, term):\n",
      "        \"\"\"Adds a term to the xs.\n",
      "\n",
      "        term: how much to add\n",
      "        \"\"\"\n",
      "        new = self.Copy()\n",
      "        # don't use +=, or else an int array + float yields int array\n",
      "        new.xs = new.xs + term\n",
      "        return new\n",
      "\n",
      "    def Scale(self, factor):\n",
      "        \"\"\"Multiplies the xs by a factor.\n",
      "\n",
      "        factor: what to multiply by\n",
      "        \"\"\"\n",
      "        new = self.Copy()\n",
      "        # don't use *=, or else an int array * float yields int array\n",
      "        new.xs = new.xs * factor\n",
      "        return new\n",
      "\n",
      "    def Prob(self, x):\n",
      "        \"\"\"Returns CDF(x), the probability that corresponds to value x.\n",
      "\n",
      "        Args:\n",
      "            x: number\n",
      "\n",
      "        Returns:\n",
      "            float probability\n",
      "        \"\"\"\n",
      "        if x < self.xs[0]:\n",
      "            return 0\n",
      "        index = bisect.bisect(self.xs, x)\n",
      "        p = self.ps[index-1]\n",
      "        return p\n",
      "\n",
      "    def Probs(self, xs):\n",
      "        \"\"\"Gets probabilities for a sequence of values.\n",
      "\n",
      "        xs: any sequence that can be converted to NumPy array\n",
      "\n",
      "        returns: NumPy array of cumulative probabilities\n",
      "        \"\"\"\n",
      "        xs = np.asarray(xs)\n",
      "        index = np.searchsorted(self.xs, xs, side='right')\n",
      "        ps = self.ps[index-1]\n",
      "        ps[xs < self.xs[0]] = 0\n",
      "        return ps\n",
      "\n",
      "    ProbArray = Probs\n",
      "\n",
      "    def Value(self, p):\n",
      "        \"\"\"Returns InverseCDF(p), the value that corresponds to probability p.\n",
      "\n",
      "        Args:\n",
      "            p: number in the range [0, 1]\n",
      "\n",
      "        Returns:\n",
      "            number value\n",
      "        \"\"\"\n",
      "        if p < 0 or p > 1:\n",
      "            raise ValueError('Probability p must be in range [0, 1]')\n",
      "\n",
      "        index = bisect.bisect_left(self.ps, p)\n",
      "        return self.xs[index]\n",
      "\n",
      "    def Values(self, ps=None):\n",
      "        \"\"\"Returns InverseCDF(p), the value that corresponds to probability p.\n",
      "\n",
      "        If ps is not provided, returns all values.\n",
      "\n",
      "        Args:\n",
      "            ps: NumPy array of numbers in the range [0, 1]\n",
      "\n",
      "        Returns:\n",
      "            NumPy array of values\n",
      "        \"\"\"\n",
      "        if ps is None:\n",
      "            return self.xs\n",
      "\n",
      "        ps = np.asarray(ps)\n",
      "        if np.any(ps < 0) or np.any(ps > 1):\n",
      "            raise ValueError('Probability p must be in range [0, 1]')\n",
      "\n",
      "        index = np.searchsorted(self.ps, ps, side='left')\n",
      "        return self.xs[index]\n",
      "\n",
      "    ValueArray = Values\n",
      "\n",
      "    def Percentile(self, p):\n",
      "        \"\"\"Returns the value that corresponds to percentile p.\n",
      "\n",
      "        Args:\n",
      "            p: number in the range [0, 100]\n",
      "\n",
      "        Returns:\n",
      "            number value\n",
      "        \"\"\"\n",
      "        return self.Value(p / 100)\n",
      "\n",
      "    def Percentiles(self, ps):\n",
      "        \"\"\"Returns the value that corresponds to percentiles ps.\n",
      "\n",
      "        Args:\n",
      "            ps: numbers in the range [0, 100]\n",
      "\n",
      "        Returns:\n",
      "            array of values\n",
      "        \"\"\"\n",
      "        ps = np.asarray(ps)\n",
      "        return self.Values(ps / 100)\n",
      "\n",
      "    def PercentileRank(self, x):\n",
      "        \"\"\"Returns the percentile rank of the value x.\n",
      "\n",
      "        x: potential value in the CDF\n",
      "\n",
      "        returns: percentile rank in the range 0 to 100\n",
      "        \"\"\"\n",
      "        return self.Prob(x) * 100\n",
      "\n",
      "    def PercentileRanks(self, xs):\n",
      "        \"\"\"Returns the percentile ranks of the values in xs.\n",
      "\n",
      "        xs: potential value in the CDF\n",
      "\n",
      "        returns: array of percentile ranks in the range 0 to 100\n",
      "        \"\"\"\n",
      "        return self.Probs(x) * 100\n",
      "\n",
      "    def Random(self):\n",
      "        \"\"\"Chooses a random value from this distribution.\"\"\"\n",
      "        return self.Value(random.random())\n",
      "\n",
      "    def Sample(self, n):\n",
      "        \"\"\"Generates a random sample from this distribution.\n",
      "        \n",
      "        n: int length of the sample\n",
      "        returns: NumPy array\n",
      "        \"\"\"\n",
      "        ps = np.random.random(n)\n",
      "        return self.ValueArray(ps)\n",
      "\n",
      "    def Mean(self):\n",
      "        \"\"\"Computes the mean of a CDF.\n",
      "\n",
      "        Returns:\n",
      "            float mean\n",
      "        \"\"\"\n",
      "        old_p = 0\n",
      "        total = 0\n",
      "        for x, new_p in zip(self.xs, self.ps):\n",
      "            p = new_p - old_p\n",
      "            total += p * x\n",
      "            old_p = new_p\n",
      "        return total\n",
      "\n",
      "    def CredibleInterval(self, percentage=90):\n",
      "        \"\"\"Computes the central credible interval.\n",
      "\n",
      "        If percentage=90, computes the 90% CI.\n",
      "\n",
      "        Args:\n",
      "            percentage: float between 0 and 100\n",
      "\n",
      "        Returns:\n",
      "            sequence of two floats, low and high\n",
      "        \"\"\"\n",
      "        prob = (1 - percentage / 100) / 2\n",
      "        interval = self.Value(prob), self.Value(1 - prob)\n",
      "        return interval\n",
      "\n",
      "    ConfidenceInterval = CredibleInterval\n",
      "\n",
      "    def _Round(self, multiplier=1000):\n",
      "        \"\"\"\n",
      "        An entry is added to the cdf only if the percentile differs\n",
      "        from the previous value in a significant digit, where the number\n",
      "        of significant digits is determined by multiplier.  The\n",
      "        default is 1000, which keeps log10(1000) = 3 significant digits.\n",
      "        \"\"\"\n",
      "        # TODO(write this method)\n",
      "        raise UnimplementedMethodException()\n",
      "\n",
      "    def Render(self, **options):\n",
      "        \"\"\"Generates a sequence of points suitable for plotting.\n",
      "\n",
      "        An empirical CDF is a step function; linear interpolation\n",
      "        can be misleading.\n",
      "\n",
      "        Note: options are ignored\n",
      "\n",
      "        Returns:\n",
      "            tuple of (xs, ps)\n",
      "        \"\"\"\n",
      "        def interleave(a, b):\n",
      "            c = np.empty(a.shape[0] + b.shape[0])\n",
      "            c[::2] = a\n",
      "            c[1::2] = b\n",
      "            return c\n",
      "\n",
      "        a = np.array(self.xs)\n",
      "        xs = interleave(a, a)\n",
      "        shift_ps = np.roll(self.ps, 1)\n",
      "        shift_ps[0] = 0\n",
      "        ps = interleave(shift_ps, self.ps)\n",
      "        return xs, ps\n",
      "\n",
      "    def Max(self, k):\n",
      "        \"\"\"Computes the CDF of the maximum of k selections from this dist.\n",
      "\n",
      "        k: int\n",
      "\n",
      "        returns: new Cdf\n",
      "        \"\"\"\n",
      "        cdf = self.Copy()\n",
      "        cdf.ps **= k\n",
      "        return cdf\n",
      "\n"
     ]
    }
   ],
   "source": [
    "print(inspect.getsource(thinkstats2.Cdf))"
   ]
  },
  {
   "cell_type": "code",
   "execution_count": null,
   "metadata": {},
   "outputs": [],
   "source": []
  }
 ],
 "metadata": {
  "kernelspec": {
   "display_name": "Python 3",
   "language": "python",
   "name": "python3"
  },
  "language_info": {
   "codemirror_mode": {
    "name": "ipython",
    "version": 3
   },
   "file_extension": ".py",
   "mimetype": "text/x-python",
   "name": "python",
   "nbconvert_exporter": "python",
   "pygments_lexer": "ipython3",
   "version": "3.7.6"
  }
 },
 "nbformat": 4,
 "nbformat_minor": 1
}
