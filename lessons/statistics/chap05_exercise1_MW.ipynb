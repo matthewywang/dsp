{
 "cells": [
  {
   "cell_type": "markdown",
   "metadata": {},
   "source": [
    "# Examples and Exercises from Think Stats, 2nd Edition\n",
    "\n",
    "http://thinkstats2.com\n",
    "\n",
    "Copyright 2016 Allen B. Downey\n",
    "\n",
    "MIT License: https://opensource.org/licenses/MIT\n"
   ]
  },
  {
   "cell_type": "code",
   "execution_count": 1,
   "metadata": {},
   "outputs": [],
   "source": [
    "from __future__ import print_function, division\n",
    "\n",
    "%matplotlib inline\n",
    "\n",
    "import numpy as np\n",
    "\n",
    "import nsfg\n",
    "import first\n",
    "import analytic\n",
    "\n",
    "import thinkstats2\n",
    "import thinkplot"
   ]
  },
  {
   "cell_type": "markdown",
   "metadata": {},
   "source": [
    "## Exponential distribution\n",
    "\n",
    "Here's what the exponential CDF looks like with a range of parameters."
   ]
  },
  {
   "cell_type": "code",
   "execution_count": 2,
   "metadata": {},
   "outputs": [
    {
     "data": {
      "image/png": "[encoded data removed]",
      "text/plain": [
       "<Figure size 432x288 with 1 Axes>"
      ]
     },
     "metadata": {
      "needs_background": "light"
     },
     "output_type": "display_data"
    }
   ],
   "source": [
    "thinkplot.PrePlot(3)\n",
    "for lam in [2.0, 1, 0.5]:\n",
    "    xs, ps = thinkstats2.RenderExpoCdf(lam, 0, 3.0, 50)\n",
    "    label = r'$\\lambda=%g$' % lam\n",
    "    thinkplot.Plot(xs, ps, label=label)\n",
    "    \n",
    "thinkplot.Config(title='Exponential CDF', xlabel='x', ylabel='CDF', \n",
    "                 loc='lower right')"
   ]
  },
  {
   "cell_type": "markdown",
   "metadata": {},
   "source": [
    "Here's the distribution of interarrival times from a dataset of birth times."
   ]
  },
  {
   "cell_type": "code",
   "execution_count": 3,
   "metadata": {},
   "outputs": [
    {
     "data": {
      "image/png": "[encoded data removed]",
      "text/plain": [
       "<Figure size 432x288 with 1 Axes>"
      ]
     },
     "metadata": {
      "needs_background": "light"
     },
     "output_type": "display_data"
    }
   ],
   "source": [
    "df = analytic.ReadBabyBoom()\n",
    "diffs = df.minutes.diff()\n",
    "cdf = thinkstats2.Cdf(diffs, label='actual')\n",
    "\n",
    "thinkplot.Cdf(cdf)\n",
    "thinkplot.Config(xlabel='Time between births (minutes)', ylabel='CDF')"
   ]
  },
  {
   "cell_type": "code",
   "execution_count": 4,
   "metadata": {},
   "outputs": [
    {
     "data": {
      "text/html": [
       "<div>\n",
       "<style scoped>\n",
       "    .dataframe tbody tr th:only-of-type {\n",
       "        vertical-align: middle;\n",
       "    }\n",
       "\n",
       "    .dataframe tbody tr th {\n",
       "        vertical-align: top;\n",
       "    }\n",
       "\n",
       "    .dataframe thead th {\n",
       "        text-align: right;\n",
       "    }\n",
       "</style>\n",
       "<table border=\"1\" class=\"dataframe\">\n",
       "  <thead>\n",
       "    <tr style=\"text-align: right;\">\n",
       "      <th></th>\n",
       "      <th>time</th>\n",
       "      <th>sex</th>\n",
       "      <th>weight_g</th>\n",
       "      <th>minutes</th>\n",
       "    </tr>\n",
       "  </thead>\n",
       "  <tbody>\n",
       "    <tr>\n",
       "      <th>0</th>\n",
       "      <td>5</td>\n",
       "      <td>1</td>\n",
       "      <td>3837</td>\n",
       "      <td>5</td>\n",
       "    </tr>\n",
       "    <tr>\n",
       "      <th>1</th>\n",
       "      <td>104</td>\n",
       "      <td>1</td>\n",
       "      <td>3334</td>\n",
       "      <td>64</td>\n",
       "    </tr>\n",
       "    <tr>\n",
       "      <th>2</th>\n",
       "      <td>118</td>\n",
       "      <td>2</td>\n",
       "      <td>3554</td>\n",
       "      <td>78</td>\n",
       "    </tr>\n",
       "    <tr>\n",
       "      <th>3</th>\n",
       "      <td>155</td>\n",
       "      <td>2</td>\n",
       "      <td>3838</td>\n",
       "      <td>115</td>\n",
       "    </tr>\n",
       "    <tr>\n",
       "      <th>4</th>\n",
       "      <td>257</td>\n",
       "      <td>2</td>\n",
       "      <td>3625</td>\n",
       "      <td>177</td>\n",
       "    </tr>\n",
       "    <tr>\n",
       "      <th>5</th>\n",
       "      <td>405</td>\n",
       "      <td>1</td>\n",
       "      <td>2208</td>\n",
       "      <td>245</td>\n",
       "    </tr>\n",
       "    <tr>\n",
       "      <th>6</th>\n",
       "      <td>407</td>\n",
       "      <td>1</td>\n",
       "      <td>1745</td>\n",
       "      <td>247</td>\n",
       "    </tr>\n",
       "    <tr>\n",
       "      <th>7</th>\n",
       "      <td>422</td>\n",
       "      <td>2</td>\n",
       "      <td>2846</td>\n",
       "      <td>262</td>\n",
       "    </tr>\n",
       "    <tr>\n",
       "      <th>8</th>\n",
       "      <td>431</td>\n",
       "      <td>2</td>\n",
       "      <td>3166</td>\n",
       "      <td>271</td>\n",
       "    </tr>\n",
       "    <tr>\n",
       "      <th>9</th>\n",
       "      <td>708</td>\n",
       "      <td>2</td>\n",
       "      <td>3520</td>\n",
       "      <td>428</td>\n",
       "    </tr>\n",
       "    <tr>\n",
       "      <th>10</th>\n",
       "      <td>735</td>\n",
       "      <td>2</td>\n",
       "      <td>3380</td>\n",
       "      <td>455</td>\n",
       "    </tr>\n",
       "    <tr>\n",
       "      <th>11</th>\n",
       "      <td>812</td>\n",
       "      <td>2</td>\n",
       "      <td>3294</td>\n",
       "      <td>492</td>\n",
       "    </tr>\n",
       "    <tr>\n",
       "      <th>12</th>\n",
       "      <td>814</td>\n",
       "      <td>1</td>\n",
       "      <td>2576</td>\n",
       "      <td>494</td>\n",
       "    </tr>\n",
       "    <tr>\n",
       "      <th>13</th>\n",
       "      <td>909</td>\n",
       "      <td>1</td>\n",
       "      <td>3208</td>\n",
       "      <td>549</td>\n",
       "    </tr>\n",
       "    <tr>\n",
       "      <th>14</th>\n",
       "      <td>1035</td>\n",
       "      <td>2</td>\n",
       "      <td>3521</td>\n",
       "      <td>635</td>\n",
       "    </tr>\n",
       "    <tr>\n",
       "      <th>15</th>\n",
       "      <td>1049</td>\n",
       "      <td>1</td>\n",
       "      <td>3746</td>\n",
       "      <td>649</td>\n",
       "    </tr>\n",
       "    <tr>\n",
       "      <th>16</th>\n",
       "      <td>1053</td>\n",
       "      <td>1</td>\n",
       "      <td>3523</td>\n",
       "      <td>653</td>\n",
       "    </tr>\n",
       "    <tr>\n",
       "      <th>17</th>\n",
       "      <td>1133</td>\n",
       "      <td>2</td>\n",
       "      <td>2902</td>\n",
       "      <td>693</td>\n",
       "    </tr>\n",
       "    <tr>\n",
       "      <th>18</th>\n",
       "      <td>1209</td>\n",
       "      <td>2</td>\n",
       "      <td>2635</td>\n",
       "      <td>729</td>\n",
       "    </tr>\n",
       "    <tr>\n",
       "      <th>19</th>\n",
       "      <td>1256</td>\n",
       "      <td>2</td>\n",
       "      <td>3920</td>\n",
       "      <td>776</td>\n",
       "    </tr>\n",
       "    <tr>\n",
       "      <th>20</th>\n",
       "      <td>1305</td>\n",
       "      <td>2</td>\n",
       "      <td>3690</td>\n",
       "      <td>785</td>\n",
       "    </tr>\n",
       "    <tr>\n",
       "      <th>21</th>\n",
       "      <td>1406</td>\n",
       "      <td>1</td>\n",
       "      <td>3430</td>\n",
       "      <td>846</td>\n",
       "    </tr>\n",
       "    <tr>\n",
       "      <th>22</th>\n",
       "      <td>1407</td>\n",
       "      <td>1</td>\n",
       "      <td>3480</td>\n",
       "      <td>847</td>\n",
       "    </tr>\n",
       "    <tr>\n",
       "      <th>23</th>\n",
       "      <td>1433</td>\n",
       "      <td>1</td>\n",
       "      <td>3116</td>\n",
       "      <td>873</td>\n",
       "    </tr>\n",
       "    <tr>\n",
       "      <th>24</th>\n",
       "      <td>1446</td>\n",
       "      <td>1</td>\n",
       "      <td>3428</td>\n",
       "      <td>886</td>\n",
       "    </tr>\n",
       "    <tr>\n",
       "      <th>25</th>\n",
       "      <td>1514</td>\n",
       "      <td>2</td>\n",
       "      <td>3783</td>\n",
       "      <td>914</td>\n",
       "    </tr>\n",
       "    <tr>\n",
       "      <th>26</th>\n",
       "      <td>1631</td>\n",
       "      <td>2</td>\n",
       "      <td>3345</td>\n",
       "      <td>991</td>\n",
       "    </tr>\n",
       "    <tr>\n",
       "      <th>27</th>\n",
       "      <td>1657</td>\n",
       "      <td>2</td>\n",
       "      <td>3034</td>\n",
       "      <td>1017</td>\n",
       "    </tr>\n",
       "    <tr>\n",
       "      <th>28</th>\n",
       "      <td>1742</td>\n",
       "      <td>1</td>\n",
       "      <td>2184</td>\n",
       "      <td>1062</td>\n",
       "    </tr>\n",
       "    <tr>\n",
       "      <th>29</th>\n",
       "      <td>1807</td>\n",
       "      <td>2</td>\n",
       "      <td>3300</td>\n",
       "      <td>1087</td>\n",
       "    </tr>\n",
       "    <tr>\n",
       "      <th>30</th>\n",
       "      <td>1825</td>\n",
       "      <td>1</td>\n",
       "      <td>2383</td>\n",
       "      <td>1105</td>\n",
       "    </tr>\n",
       "    <tr>\n",
       "      <th>31</th>\n",
       "      <td>1854</td>\n",
       "      <td>2</td>\n",
       "      <td>3428</td>\n",
       "      <td>1134</td>\n",
       "    </tr>\n",
       "    <tr>\n",
       "      <th>32</th>\n",
       "      <td>1909</td>\n",
       "      <td>2</td>\n",
       "      <td>4162</td>\n",
       "      <td>1149</td>\n",
       "    </tr>\n",
       "    <tr>\n",
       "      <th>33</th>\n",
       "      <td>1947</td>\n",
       "      <td>2</td>\n",
       "      <td>3630</td>\n",
       "      <td>1187</td>\n",
       "    </tr>\n",
       "    <tr>\n",
       "      <th>34</th>\n",
       "      <td>1949</td>\n",
       "      <td>2</td>\n",
       "      <td>3406</td>\n",
       "      <td>1189</td>\n",
       "    </tr>\n",
       "    <tr>\n",
       "      <th>35</th>\n",
       "      <td>1951</td>\n",
       "      <td>2</td>\n",
       "      <td>3402</td>\n",
       "      <td>1191</td>\n",
       "    </tr>\n",
       "    <tr>\n",
       "      <th>36</th>\n",
       "      <td>2010</td>\n",
       "      <td>1</td>\n",
       "      <td>3500</td>\n",
       "      <td>1210</td>\n",
       "    </tr>\n",
       "    <tr>\n",
       "      <th>37</th>\n",
       "      <td>2037</td>\n",
       "      <td>2</td>\n",
       "      <td>3736</td>\n",
       "      <td>1237</td>\n",
       "    </tr>\n",
       "    <tr>\n",
       "      <th>38</th>\n",
       "      <td>2051</td>\n",
       "      <td>2</td>\n",
       "      <td>3370</td>\n",
       "      <td>1251</td>\n",
       "    </tr>\n",
       "    <tr>\n",
       "      <th>39</th>\n",
       "      <td>2104</td>\n",
       "      <td>2</td>\n",
       "      <td>2121</td>\n",
       "      <td>1264</td>\n",
       "    </tr>\n",
       "    <tr>\n",
       "      <th>40</th>\n",
       "      <td>2123</td>\n",
       "      <td>2</td>\n",
       "      <td>3150</td>\n",
       "      <td>1283</td>\n",
       "    </tr>\n",
       "    <tr>\n",
       "      <th>41</th>\n",
       "      <td>2217</td>\n",
       "      <td>1</td>\n",
       "      <td>3866</td>\n",
       "      <td>1337</td>\n",
       "    </tr>\n",
       "    <tr>\n",
       "      <th>42</th>\n",
       "      <td>2327</td>\n",
       "      <td>1</td>\n",
       "      <td>3542</td>\n",
       "      <td>1407</td>\n",
       "    </tr>\n",
       "    <tr>\n",
       "      <th>43</th>\n",
       "      <td>2355</td>\n",
       "      <td>1</td>\n",
       "      <td>3278</td>\n",
       "      <td>1435</td>\n",
       "    </tr>\n",
       "  </tbody>\n",
       "</table>\n",
       "</div>"
      ],
      "text/plain": [
       "    time  sex  weight_g  minutes\n",
       "0      5    1      3837        5\n",
       "1    104    1      3334       64\n",
       "2    118    2      3554       78\n",
       "3    155    2      3838      115\n",
       "4    257    2      3625      177\n",
       "5    405    1      2208      245\n",
       "6    407    1      1745      247\n",
       "7    422    2      2846      262\n",
       "8    431    2      3166      271\n",
       "9    708    2      3520      428\n",
       "10   735    2      3380      455\n",
       "11   812    2      3294      492\n",
       "12   814    1      2576      494\n",
       "13   909    1      3208      549\n",
       "14  1035    2      3521      635\n",
       "15  1049    1      3746      649\n",
       "16  1053    1      3523      653\n",
       "17  1133    2      2902      693\n",
       "18  1209    2      2635      729\n",
       "19  1256    2      3920      776\n",
       "20  1305    2      3690      785\n",
       "21  1406    1      3430      846\n",
       "22  1407    1      3480      847\n",
       "23  1433    1      3116      873\n",
       "24  1446    1      3428      886\n",
       "25  1514    2      3783      914\n",
       "26  1631    2      3345      991\n",
       "27  1657    2      3034     1017\n",
       "28  1742    1      2184     1062\n",
       "29  1807    2      3300     1087\n",
       "30  1825    1      2383     1105\n",
       "31  1854    2      3428     1134\n",
       "32  1909    2      4162     1149\n",
       "33  1947    2      3630     1187\n",
       "34  1949    2      3406     1189\n",
       "35  1951    2      3402     1191\n",
       "36  2010    1      3500     1210\n",
       "37  2037    2      3736     1237\n",
       "38  2051    2      3370     1251\n",
       "39  2104    2      2121     1264\n",
       "40  2123    2      3150     1283\n",
       "41  2217    1      3866     1337\n",
       "42  2327    1      3542     1407\n",
       "43  2355    1      3278     1435"
      ]
     },
     "execution_count": 4,
     "metadata": {},
     "output_type": "execute_result"
    }
   ],
   "source": [
    "df"
   ]
  },
  {
   "cell_type": "code",
   "execution_count": 5,
   "metadata": {},
   "outputs": [
    {
     "data": {
      "text/plain": [
       "0       NaN\n",
       "1      59.0\n",
       "2      14.0\n",
       "3      37.0\n",
       "4      62.0\n",
       "5      68.0\n",
       "6       2.0\n",
       "7      15.0\n",
       "8       9.0\n",
       "9     157.0\n",
       "10     27.0\n",
       "11     37.0\n",
       "12      2.0\n",
       "13     55.0\n",
       "14     86.0\n",
       "15     14.0\n",
       "16      4.0\n",
       "17     40.0\n",
       "18     36.0\n",
       "19     47.0\n",
       "20      9.0\n",
       "21     61.0\n",
       "22      1.0\n",
       "23     26.0\n",
       "24     13.0\n",
       "25     28.0\n",
       "26     77.0\n",
       "27     26.0\n",
       "28     45.0\n",
       "29     25.0\n",
       "30     18.0\n",
       "31     29.0\n",
       "32     15.0\n",
       "33     38.0\n",
       "34      2.0\n",
       "35      2.0\n",
       "36     19.0\n",
       "37     27.0\n",
       "38     14.0\n",
       "39     13.0\n",
       "40     19.0\n",
       "41     54.0\n",
       "42     70.0\n",
       "43     28.0\n",
       "Name: minutes, dtype: float64"
      ]
     },
     "execution_count": 5,
     "metadata": {},
     "output_type": "execute_result"
    }
   ],
   "source": [
    "diffs"
   ]
  },
  {
   "cell_type": "code",
   "execution_count": null,
   "metadata": {},
   "outputs": [],
   "source": []
  },
  {
   "cell_type": "markdown",
   "metadata": {},
   "source": [
    "Here's what the CCDF looks like on a log-y scale.  A straight line is consistent with an exponential distribution."
   ]
  },
  {
   "cell_type": "code",
   "execution_count": 6,
   "metadata": {},
   "outputs": [
    {
     "data": {
      "image/png": "[encoded data removed]",
      "text/plain": [
       "<Figure size 432x288 with 1 Axes>"
      ]
     },
     "metadata": {
      "needs_background": "light"
     },
     "output_type": "display_data"
    }
   ],
   "source": [
    "thinkplot.Cdf(cdf, complement=True)\n",
    "thinkplot.Config(xlabel='Time between births (minutes)',\n",
    "                 ylabel='CCDF', yscale='log', loc='upper right')"
   ]
  },
  {
   "cell_type": "code",
   "execution_count": 7,
   "metadata": {},
   "outputs": [
    {
     "data": {
      "text/plain": [
       "1440"
      ]
     },
     "execution_count": 7,
     "metadata": {},
     "output_type": "execute_result"
    }
   ],
   "source": [
    "60*24    # 60 minutes per hour, 24 hours per day"
   ]
  },
  {
   "cell_type": "code",
   "execution_count": 8,
   "metadata": {},
   "outputs": [
    {
     "data": {
      "text/plain": [
       "0.030555555555555555"
      ]
     },
     "execution_count": 8,
     "metadata": {},
     "output_type": "execute_result"
    }
   ],
   "source": [
    "44/1440    # 44 births, 24 hour period (births per minute)"
   ]
  },
  {
   "cell_type": "code",
   "execution_count": 9,
   "metadata": {},
   "outputs": [
    {
     "data": {
      "text/plain": [
       "32.72727272727273"
      ]
     },
     "execution_count": 9,
     "metadata": {},
     "output_type": "execute_result"
    }
   ],
   "source": [
    "1440/44"
   ]
  },
  {
   "cell_type": "markdown",
   "metadata": {},
   "source": [
    "## Normal distribution\n",
    "\n",
    "Here's what the normal CDF looks like with a range of parameters."
   ]
  },
  {
   "cell_type": "code",
   "execution_count": 10,
   "metadata": {},
   "outputs": [],
   "source": [
    "import scipy.stats"
   ]
  },
  {
   "cell_type": "code",
   "execution_count": 11,
   "metadata": {},
   "outputs": [
    {
     "data": {
      "text/plain": [
       "0.5"
      ]
     },
     "execution_count": 11,
     "metadata": {},
     "output_type": "execute_result"
    }
   ],
   "source": [
    "scipy.stats.norm.cdf(0)"
   ]
  },
  {
   "cell_type": "code",
   "execution_count": 15,
   "metadata": {},
   "outputs": [
    {
     "data": {
      "image/png": "[encoded data removed]",
      "text/plain": [
       "<Figure size 432x288 with 1 Axes>"
      ]
     },
     "metadata": {
      "needs_background": "light"
     },
     "output_type": "display_data"
    }
   ],
   "source": [
    "thinkplot.PrePlot(3)\n",
    "\n",
    "mus = [1.0, 2.0, 3.0]\n",
    "sigmas = [0.5, 0.4, 0.3]\n",
    "for mu, sigma in zip(mus, sigmas):\n",
    "    xs, ps = thinkstats2.RenderNormalCdf(mu=mu, sigma=sigma, \n",
    "                                               low=-1.0, high=4.0)\n",
    "    label = r'$\\mu=%g$, $\\sigma=%g$' % (mu, sigma)\n",
    "    thinkplot.Plot(xs, ps, label=label)\n",
    "\n",
    "thinkplot.Config(title='Normal CDF', xlabel='x', ylabel='CDF',\n",
    "                 loc='upper left')"
   ]
  },
  {
   "cell_type": "code",
   "execution_count": 17,
   "metadata": {},
   "outputs": [],
   "source": [
    "import inspect"
   ]
  },
  {
   "cell_type": "code",
   "execution_count": 19,
   "metadata": {},
   "outputs": [
    {
     "name": "stdout",
     "output_type": "stream",
     "text": [
      "def EvalNormalCdf(x, mu=0, sigma=1):\n",
      "    \"\"\"Evaluates the CDF of the normal distribution.\n",
      "    \n",
      "    Args:\n",
      "        x: float\n",
      "\n",
      "        mu: mean parameter\n",
      "        \n",
      "        sigma: standard deviation parameter\n",
      "                \n",
      "    Returns:\n",
      "        float\n",
      "    \"\"\"\n",
      "    return stats.norm.cdf(x, loc=mu, scale=sigma)\n",
      "\n"
     ]
    }
   ],
   "source": [
    "print(inspect.getsource(thinkstats2.EvalNormalCdf))"
   ]
  },
  {
   "cell_type": "code",
   "execution_count": 16,
   "metadata": {},
   "outputs": [
    {
     "data": {
      "text/plain": [
       "['Beta',\n",
       " 'BinomialCoef',\n",
       " 'Cdf',\n",
       " 'CentralMoment',\n",
       " 'CoefDetermination',\n",
       " 'CohenEffectSize',\n",
       " 'Corr',\n",
       " 'CorrelatedGenerator',\n",
       " 'CorrelatedNormalGenerator',\n",
       " 'Counter',\n",
       " 'Cov',\n",
       " 'CredibleInterval',\n",
       " 'DEFAULT_LABEL',\n",
       " 'Dirichlet',\n",
       " 'EstimatedPdf',\n",
       " 'EvalBinomialPmf',\n",
       " 'EvalExponentialCdf',\n",
       " 'EvalExponentialPdf',\n",
       " 'EvalGammaPdf',\n",
       " 'EvalGeometricPmf',\n",
       " 'EvalHypergeomPmf',\n",
       " 'EvalLognormalCdf',\n",
       " 'EvalNormalCdf',\n",
       " 'EvalNormalCdfInverse',\n",
       " 'EvalNormalPdf',\n",
       " 'EvalParetoPdf',\n",
       " 'EvalPoissonPmf',\n",
       " 'EvalWeibullCdf',\n",
       " 'EvalWeibullPdf',\n",
       " 'ExponentialPdf',\n",
       " 'FitLine',\n",
       " 'FixedWidthVariables',\n",
       " 'Hist',\n",
       " 'HypothesisTest',\n",
       " 'IQR',\n",
       " 'Interpolator',\n",
       " 'Jitter',\n",
       " 'Joint',\n",
       " 'LeastSquares',\n",
       " 'LogBinomialCoef',\n",
       " 'MakeBinomialPmf',\n",
       " 'MakeCdfFromDict',\n",
       " 'MakeCdfFromHist',\n",
       " 'MakeCdfFromItems',\n",
       " 'MakeCdfFromList',\n",
       " 'MakeCdfFromPmf',\n",
       " 'MakeExponentialPmf',\n",
       " 'MakeGammaPmf',\n",
       " 'MakeGeometricPmf',\n",
       " 'MakeHistFromDict',\n",
       " 'MakeHistFromList',\n",
       " 'MakeJoint',\n",
       " 'MakeMixture',\n",
       " 'MakeNormalPmf',\n",
       " 'MakeParetoPmf',\n",
       " 'MakePmfFromDict',\n",
       " 'MakePmfFromHist',\n",
       " 'MakePmfFromItems',\n",
       " 'MakePmfFromList',\n",
       " 'MakePoissonPmf',\n",
       " 'MakeSuiteFromDict',\n",
       " 'MakeSuiteFromHist',\n",
       " 'MakeSuiteFromList',\n",
       " 'MakeUniformPmf',\n",
       " 'MakeWeibullPmf',\n",
       " 'MapToRanks',\n",
       " 'Mean',\n",
       " 'MeanVar',\n",
       " 'Median',\n",
       " 'NormalPdf',\n",
       " 'NormalProbability',\n",
       " 'NormalProbabilityPlot',\n",
       " 'Odds',\n",
       " 'Pdf',\n",
       " 'PearsonMedianSkewness',\n",
       " 'PercentileRow',\n",
       " 'PercentileRows',\n",
       " 'Pmf',\n",
       " 'PmfProbEqual',\n",
       " 'PmfProbGreater',\n",
       " 'PmfProbLess',\n",
       " 'Probability',\n",
       " 'Probability2',\n",
       " 'ROOT2',\n",
       " 'RandomSeed',\n",
       " 'RandomSum',\n",
       " 'RawMoment',\n",
       " 'ReadStataDct',\n",
       " 'RenderExpoCdf',\n",
       " 'RenderNormalCdf',\n",
       " 'RenderParetoCdf',\n",
       " 'Resample',\n",
       " 'ResampleRows',\n",
       " 'ResampleRowsWeighted',\n",
       " 'Residuals',\n",
       " 'SampleRows',\n",
       " 'SampleSum',\n",
       " 'SerialCorr',\n",
       " 'Skewness',\n",
       " 'Smooth',\n",
       " 'SpearmanCorr',\n",
       " 'StandardNormalCdf',\n",
       " 'StandardizedMoment',\n",
       " 'Std',\n",
       " 'Suite',\n",
       " 'Trim',\n",
       " 'TrimmedMean',\n",
       " 'TrimmedMeanVar',\n",
       " 'UnimplementedMethodException',\n",
       " 'Var',\n",
       " '_DictWrapper',\n",
       " '__builtins__',\n",
       " '__cached__',\n",
       " '__doc__',\n",
       " '__file__',\n",
       " '__loader__',\n",
       " '__name__',\n",
       " '__package__',\n",
       " '__spec__',\n",
       " 'bisect',\n",
       " 'copy',\n",
       " 'division',\n",
       " 'gamma',\n",
       " 'itemgetter',\n",
       " 'logging',\n",
       " 'main',\n",
       " 'math',\n",
       " 'ndimage',\n",
       " 'np',\n",
       " 'open',\n",
       " 'pandas',\n",
       " 'print_function',\n",
       " 'random',\n",
       " 're',\n",
       " 'scipy',\n",
       " 'special',\n",
       " 'stats',\n",
       " 'thinkplot']"
      ]
     },
     "execution_count": 16,
     "metadata": {},
     "output_type": "execute_result"
    }
   ],
   "source": [
    "dir(thinkstats2)"
   ]
  },
  {
   "cell_type": "markdown",
   "metadata": {},
   "source": [
    "I'll use a normal model to fit the distribution of birth weights from the NSFG."
   ]
  },
  {
   "cell_type": "code",
   "execution_count": 20,
   "metadata": {},
   "outputs": [],
   "source": [
    "preg = nsfg.ReadFemPreg()\n",
    "weights = preg.totalwgt_lb.dropna()"
   ]
  },
  {
   "cell_type": "markdown",
   "metadata": {},
   "source": [
    "Here's the observed CDF and the model.  The model fits the data well except in the left tail."
   ]
  },
  {
   "cell_type": "code",
   "execution_count": 21,
   "metadata": {},
   "outputs": [
    {
     "name": "stdout",
     "output_type": "stream",
     "text": [
      "Mean, Var 7.280883100022579 1.5452125703544901\n",
      "Sigma 1.2430657948614345\n"
     ]
    },
    {
     "data": {
      "image/png": "[encoded data removed]",
      "text/plain": [
       "<Figure size 432x288 with 1 Axes>"
      ]
     },
     "metadata": {
      "needs_background": "light"
     },
     "output_type": "display_data"
    }
   ],
   "source": [
    "# estimate parameters: trimming outliers yields a better fit\n",
    "mu, var = thinkstats2.TrimmedMeanVar(weights, p=0.01)\n",
    "print('Mean, Var', mu, var)\n",
    "    \n",
    "# plot the model\n",
    "sigma = np.sqrt(var)\n",
    "print('Sigma', sigma)\n",
    "xs, ps = thinkstats2.RenderNormalCdf(mu, sigma, low=0, high=12.5)\n",
    "\n",
    "thinkplot.Plot(xs, ps, label='model', color='0.6')\n",
    "\n",
    "# plot the data\n",
    "cdf = thinkstats2.Cdf(weights, label='data')\n",
    "\n",
    "thinkplot.PrePlot(1)\n",
    "thinkplot.Cdf(cdf) \n",
    "thinkplot.Config(title='Birth weights',\n",
    "                 xlabel='Birth weight (pounds)',\n",
    "                 ylabel='CDF')"
   ]
  },
  {
   "cell_type": "markdown",
   "metadata": {},
   "source": [
    "A normal probability plot is a visual test for normality.  The following example shows that if the data are actually from a normal distribution, the plot is approximately straight."
   ]
  },
  {
   "cell_type": "code",
   "execution_count": 22,
   "metadata": {},
   "outputs": [
    {
     "data": {
      "image/png": "[encoded data removed]",
      "text/plain": [
       "<Figure size 432x288 with 1 Axes>"
      ]
     },
     "metadata": {
      "needs_background": "light"
     },
     "output_type": "display_data"
    }
   ],
   "source": [
    "n = 1000\n",
    "thinkplot.PrePlot(3) \n",
    "\n",
    "mus = [0, 1, 5]\n",
    "sigmas = [1, 1, 2]\n",
    "\n",
    "for mu, sigma in zip(mus, sigmas):\n",
    "    sample = np.random.normal(mu, sigma, n)\n",
    "    xs, ys = thinkstats2.NormalProbability(sample)\n",
    "    label = '$\\mu=%d$, $\\sigma=%d$' % (mu, sigma)\n",
    "    thinkplot.Plot(xs, ys, label=label)\n",
    "\n",
    "thinkplot.Config(title='Normal probability plot',\n",
    "                 xlabel='standard normal sample',\n",
    "                 ylabel='sample values')"
   ]
  },
  {
   "cell_type": "markdown",
   "metadata": {},
   "source": [
    "Here's the normal probability plot for birth weights, showing that the lightest babies are lighter than we expect from the normal mode, and the heaviest babies are heavier."
   ]
  },
  {
   "cell_type": "code",
   "execution_count": 27,
   "metadata": {},
   "outputs": [
    {
     "data": {
      "image/png": "[encoded data removed]",
      "text/plain": [
       "<Figure size 432x288 with 1 Axes>"
      ]
     },
     "metadata": {
      "needs_background": "light"
     },
     "output_type": "display_data"
    }
   ],
   "source": [
    "mean, var = thinkstats2.TrimmedMeanVar(weights, p=0.01)\n",
    "std = np.sqrt(var)\n",
    "\n",
    "xs = [-4, 4]\n",
    "fxs, fys = thinkstats2.FitLine(xs, mean, std)\n",
    "thinkplot.Plot(fxs, fys, linewidth=4, color='0.8')\n",
    "\n",
    "xs, ys = thinkstats2.NormalProbability(weights)\n",
    "thinkplot.Plot(xs, ys, label='all live')\n",
    "\n",
    "thinkplot.Config(title='Normal probability plot',\n",
    "                 xlabel='Standard deviations from mean',\n",
    "                 ylabel='Birth weight (lbs)')"
   ]
  },
  {
   "cell_type": "markdown",
   "metadata": {},
   "source": [
    "If we suspect that the deviation in the left tail is due to preterm babies, we can check by selecting only full term births."
   ]
  },
  {
   "cell_type": "code",
   "execution_count": 28,
   "metadata": {},
   "outputs": [],
   "source": [
    "full_term = preg[preg.prglngth >= 37]\n",
    "term_weights = full_term.totalwgt_lb.dropna()"
   ]
  },
  {
   "cell_type": "markdown",
   "metadata": {},
   "source": [
    "Now the deviation in the left tail is almost gone, but the heaviest babies are still heavy."
   ]
  },
  {
   "cell_type": "code",
   "execution_count": 30,
   "metadata": {},
   "outputs": [
    {
     "data": {
      "image/png": "[encoded data removed]",
      "text/plain": [
       "<Figure size 432x288 with 1 Axes>"
      ]
     },
     "metadata": {
      "needs_background": "light"
     },
     "output_type": "display_data"
    }
   ],
   "source": [
    "mean, var = thinkstats2.TrimmedMeanVar(weights, p=0.01)\n",
    "std = np.sqrt(var)\n",
    "\n",
    "xs = [-4, 4]\n",
    "fxs, fys = thinkstats2.FitLine(xs, mean, std)\n",
    "thinkplot.Plot(fxs, fys, linewidth=4, color='0.8')\n",
    "\n",
    "thinkplot.PrePlot(2) \n",
    "xs, ys = thinkstats2.NormalProbability(weights)\n",
    "thinkplot.Plot(xs, ys, label='all live')\n",
    "\n",
    "xs, ys = thinkstats2.NormalProbability(term_weights)\n",
    "thinkplot.Plot(xs, ys, label='full term')\n",
    "thinkplot.Config(title='Normal probability plot',\n",
    "                 xlabel='Standard deviations from mean',\n",
    "                 ylabel='Birth weight (lbs)')"
   ]
  },
  {
   "cell_type": "code",
   "execution_count": 31,
   "metadata": {},
   "outputs": [
    {
     "name": "stdout",
     "output_type": "stream",
     "text": [
      "def NormalProbability(ys, jitter=0):\n",
      "    \"\"\"Generates data for a normal probability plot.\n",
      "\n",
      "    ys: sequence of values\n",
      "    jitter: float magnitude of jitter added to the ys \n",
      "\n",
      "    returns: numpy arrays xs, ys\n",
      "    \"\"\"\n",
      "    n = len(ys)\n",
      "    xs = np.random.normal(0, 1, n)\n",
      "    xs.sort()\n",
      "    \n",
      "    if jitter:\n",
      "        ys = Jitter(ys, jitter)\n",
      "    else:\n",
      "        ys = np.array(ys)\n",
      "    ys.sort()\n",
      "\n",
      "    return xs, ys\n",
      "\n"
     ]
    }
   ],
   "source": [
    "print(inspect.getsource(thinkstats2.NormalProbability))"
   ]
  },
  {
   "cell_type": "markdown",
   "metadata": {},
   "source": [
    "## Lognormal model\n",
    "\n",
    "As an example of a lognormal disrtribution, we'll look at adult weights from the BRFSS."
   ]
  },
  {
   "cell_type": "code",
   "execution_count": 32,
   "metadata": {},
   "outputs": [],
   "source": [
    "import brfss\n",
    "df = brfss.ReadBrfss()\n",
    "weights = df.wtkg2.dropna()"
   ]
  },
  {
   "cell_type": "markdown",
   "metadata": {},
   "source": [
    "The following function estimates the parameters of a normal distribution and plots the data and a normal model."
   ]
  },
  {
   "cell_type": "code",
   "execution_count": 33,
   "metadata": {},
   "outputs": [],
   "source": [
    "def MakeNormalModel(weights):\n",
    "    \"\"\"Plots a CDF with a Normal model.\n",
    "\n",
    "    weights: sequence\n",
    "    \"\"\"\n",
    "    cdf = thinkstats2.Cdf(weights, label='weights')\n",
    "\n",
    "    mean, var = thinkstats2.TrimmedMeanVar(weights)\n",
    "    std = np.sqrt(var)\n",
    "    print('n, mean, std', len(weights), mean, std)\n",
    "\n",
    "    xmin = mean - 4 * std\n",
    "    xmax = mean + 4 * std\n",
    "\n",
    "    xs, ps = thinkstats2.RenderNormalCdf(mean, std, xmin, xmax)\n",
    "    thinkplot.Plot(xs, ps, label='model', linewidth=4, color='0.8')\n",
    "    thinkplot.Cdf(cdf)"
   ]
  },
  {
   "cell_type": "markdown",
   "metadata": {},
   "source": [
    "Here's the distribution of adult weights and a normal model, which is not a very good fit."
   ]
  },
  {
   "cell_type": "code",
   "execution_count": 36,
   "metadata": {},
   "outputs": [
    {
     "name": "stdout",
     "output_type": "stream",
     "text": [
      "n, mean, std 398484 78.59599565702814 17.75455519179819\n"
     ]
    },
    {
     "data": {
      "image/png": "[encoded data removed]",
      "text/plain": [
       "<Figure size 432x288 with 1 Axes>"
      ]
     },
     "metadata": {
      "needs_background": "light"
     },
     "output_type": "display_data"
    }
   ],
   "source": [
    "MakeNormalModel(weights)\n",
    "thinkplot.Config(title='Adult weight, linear scale', \n",
    "                 xlabel='Weight (kg)',\n",
    "                 ylabel='CDF', \n",
    "                 loc='upper right')"
   ]
  },
  {
   "cell_type": "markdown",
   "metadata": {},
   "source": [
    "Here's the distribution of adult weight and a lognormal model, plotted on a log-x scale.  The model is a better fit for the data, although the heaviest people are heavier than the model expects."
   ]
  },
  {
   "cell_type": "code",
   "execution_count": 37,
   "metadata": {},
   "outputs": [
    {
     "name": "stdout",
     "output_type": "stream",
     "text": [
      "n, mean, std 398484 1.884660713731975 0.096235802591517\n"
     ]
    },
    {
     "data": {
      "image/png": "[encoded data removed]",
      "text/plain": [
       "<Figure size 432x288 with 1 Axes>"
      ]
     },
     "metadata": {
      "needs_background": "light"
     },
     "output_type": "display_data"
    }
   ],
   "source": [
    "log_weights = np.log10(weights)\n",
    "MakeNormalModel(log_weights)\n",
    "thinkplot.Config(title='Adult weight, log scale', xlabel='Weight (log10 kg)',\n",
    "                 ylabel='CDF', loc='upper right')"
   ]
  },
  {
   "cell_type": "markdown",
   "metadata": {},
   "source": [
    "The following function generates a normal probability plot."
   ]
  },
  {
   "cell_type": "code",
   "execution_count": 38,
   "metadata": {},
   "outputs": [],
   "source": [
    "def MakeNormalPlot(weights):\n",
    "    \"\"\"Generates a normal probability plot of birth weights.\n",
    "\n",
    "    weights: sequence\n",
    "    \"\"\"\n",
    "    mean, var = thinkstats2.TrimmedMeanVar(weights, p=0.01)\n",
    "    std = np.sqrt(var)\n",
    "\n",
    "    xs = [-5, 5]\n",
    "    xs, ys = thinkstats2.FitLine(xs, mean, std)\n",
    "    thinkplot.Plot(xs, ys, color='0.8', label='model')\n",
    "\n",
    "    xs, ys = thinkstats2.NormalProbability(weights)\n",
    "    thinkplot.Plot(xs, ys, label='weights')"
   ]
  },
  {
   "cell_type": "markdown",
   "metadata": {},
   "source": [
    "When we generate a normal probability plot with adult weights, we can see clearly that the data deviate from the model systematically."
   ]
  },
  {
   "cell_type": "code",
   "execution_count": 40,
   "metadata": {},
   "outputs": [
    {
     "data": {
      "image/png": "[encoded data removed]",
      "text/plain": [
       "<Figure size 432x288 with 1 Axes>"
      ]
     },
     "metadata": {
      "needs_background": "light"
     },
     "output_type": "display_data"
    }
   ],
   "source": [
    "MakeNormalPlot(weights)\n",
    "thinkplot.Config(title='Adult weight, normal plot', \n",
    "                 xlabel='Number of standard deviations from mean',\n",
    "                 ylabel='Weight (kg)', \n",
    "                 loc='upper left')"
   ]
  },
  {
   "cell_type": "markdown",
   "metadata": {},
   "source": [
    "If we make a normal probability plot with log weights, the model fit the data well except in the tails, where the heaviest people exceed expectations."
   ]
  },
  {
   "cell_type": "code",
   "execution_count": 41,
   "metadata": {},
   "outputs": [
    {
     "data": {
      "image/png": "[encoded data removed]",
      "text/plain": [
       "<Figure size 432x288 with 1 Axes>"
      ]
     },
     "metadata": {
      "needs_background": "light"
     },
     "output_type": "display_data"
    }
   ],
   "source": [
    "MakeNormalPlot(log_weights)\n",
    "thinkplot.Config(title='Adult weight, lognormal plot', \n",
    "                 xlabel='Number of standard deviations from mean',\n",
    "                 ylabel='Weight (log10 kg)', \n",
    "                 loc='upper left')"
   ]
  },
  {
   "cell_type": "markdown",
   "metadata": {},
   "source": [
    "## Pareto distribution\n",
    "\n",
    "Here's what the Pareto CDF looks like with a range of parameters."
   ]
  },
  {
   "cell_type": "code",
   "execution_count": 42,
   "metadata": {},
   "outputs": [
    {
     "data": {
      "image/png": "[encoded data removed]",
      "text/plain": [
       "<Figure size 432x288 with 1 Axes>"
      ]
     },
     "metadata": {
      "needs_background": "light"
     },
     "output_type": "display_data"
    }
   ],
   "source": [
    "xmin = 0.5\n",
    "\n",
    "thinkplot.PrePlot(3)\n",
    "for alpha in [2.0, 1.0, 0.5]:\n",
    "    xs, ps = thinkstats2.RenderParetoCdf(xmin, alpha, 0, 10.0, n=100) \n",
    "    thinkplot.Plot(xs, ps, label=r'$\\alpha=%g$' % alpha)\n",
    "    \n",
    "thinkplot.Config(title='Pareto CDF', \n",
    "                 xlabel='x',\n",
    "                 ylabel='CDF', \n",
    "                 loc='lower right')"
   ]
  },
  {
   "cell_type": "markdown",
   "metadata": {},
   "source": [
    "The distribution of populations for cities and towns is sometimes said to be Pareto-like."
   ]
  },
  {
   "cell_type": "code",
   "execution_count": 47,
   "metadata": {},
   "outputs": [
    {
     "name": "stdout",
     "output_type": "stream",
     "text": [
      "Number of cities/towns: 19515\n"
     ]
    }
   ],
   "source": [
    "import populations\n",
    "\n",
    "pops = populations.ReadData()\n",
    "print('Number of cities/towns:', len(pops))"
   ]
  },
  {
   "cell_type": "markdown",
   "metadata": {},
   "source": [
    "Here's the distribution of population for cities and towns in the U.S., along with a Pareto model.  The model fits the data well in the tail."
   ]
  },
  {
   "cell_type": "code",
   "execution_count": 46,
   "metadata": {},
   "outputs": [
    {
     "data": {
      "text/plain": [
       "0         2654.0\n",
       "1         4490.0\n",
       "2          746.0\n",
       "3          344.0\n",
       "4        30991.0\n",
       "          ...   \n",
       "19511      464.0\n",
       "19512     3641.0\n",
       "19513     5454.0\n",
       "19514     1856.0\n",
       "19515      155.0\n",
       "Name: 7, Length: 19515, dtype: float64"
      ]
     },
     "execution_count": 46,
     "metadata": {},
     "output_type": "execute_result"
    }
   ],
   "source": [
    "pops"
   ]
  },
  {
   "cell_type": "code",
   "execution_count": 45,
   "metadata": {},
   "outputs": [
    {
     "data": {
      "image/png": "[encoded data removed]",
      "text/plain": [
       "<Figure size 432x288 with 1 Axes>"
      ]
     },
     "metadata": {
      "needs_background": "light"
     },
     "output_type": "display_data"
    }
   ],
   "source": [
    "log_pops = np.log10(pops)\n",
    "cdf = thinkstats2.Cdf(pops, label='data')\n",
    "cdf_log = thinkstats2.Cdf(log_pops, label='data')\n",
    "\n",
    "# pareto plot\n",
    "xs, ys = thinkstats2.RenderParetoCdf(xmin=5000, alpha=1.4, low=0, high=1e7)\n",
    "thinkplot.Plot(np.log10(xs), 1-ys, label='model', color='0.8')\n",
    "\n",
    "thinkplot.Cdf(cdf_log, complement=True) \n",
    "thinkplot.Config(xlabel='log10 population',\n",
    "                 ylabel='CCDF',\n",
    "                 yscale='log', \n",
    "                 loc='lower left')"
   ]
  },
  {
   "cell_type": "markdown",
   "metadata": {},
   "source": [
    "The lognormal model might be a better fit for this data (as is often the case for things that are supposed to be Pareto)."
   ]
  },
  {
   "cell_type": "code",
   "execution_count": 48,
   "metadata": {},
   "outputs": [
    {
     "data": {
      "image/png": "[encoded data removed]",
      "text/plain": [
       "<Figure size 864x432 with 1 Axes>"
      ]
     },
     "metadata": {
      "needs_background": "light"
     },
     "output_type": "display_data"
    }
   ],
   "source": [
    "thinkplot.PrePlot(cols=2)\n",
    "\n",
    "mu, sigma = log_pops.mean(), log_pops.std()\n",
    "xs, ps = thinkstats2.RenderNormalCdf(mu, sigma, low=0, high=8)\n",
    "thinkplot.Plot(xs, ps, label='model', color='0.8')\n",
    "\n",
    "thinkplot.Cdf(cdf_log) \n",
    "thinkplot.Config(xlabel='log10 population',\n",
    "                 ylabel='CDF', \n",
    "                 loc='lower right')"
   ]
  },
  {
   "cell_type": "markdown",
   "metadata": {},
   "source": [
    "Here's a normal probability plot for the log-populations.  The model fits the data well except in the right tail, where the biggest cities are bigger than expected."
   ]
  },
  {
   "cell_type": "code",
   "execution_count": 49,
   "metadata": {},
   "outputs": [
    {
     "data": {
      "image/png": "[encoded data removed]",
      "text/plain": [
       "<Figure size 432x288 with 1 Axes>"
      ]
     },
     "metadata": {
      "needs_background": "light"
     },
     "output_type": "display_data"
    }
   ],
   "source": [
    "thinkstats2.NormalProbabilityPlot(log_pops, label='data')\n",
    "thinkplot.Config(xlabel='Random variate',\n",
    "                 ylabel='log10 population',\n",
    "                 xlim=[-5, 5])"
   ]
  },
  {
   "cell_type": "markdown",
   "metadata": {},
   "source": [
    "## Random variates\n",
    "\n",
    "When we have an analytic CDF, we can sometimes invert it to generate random values.  The following function generates values from an exponential distribution."
   ]
  },
  {
   "cell_type": "code",
   "execution_count": 50,
   "metadata": {},
   "outputs": [],
   "source": [
    "import random\n",
    "\n",
    "def expovariate(lam):\n",
    "    p = random.random()\n",
    "    x = -np.log(1-p) / lam\n",
    "    return x"
   ]
  },
  {
   "cell_type": "markdown",
   "metadata": {},
   "source": [
    "We can test it by generating a sample."
   ]
  },
  {
   "cell_type": "code",
   "execution_count": 53,
   "metadata": {},
   "outputs": [
    {
     "name": "stdout",
     "output_type": "stream",
     "text": [
      "0\n",
      "1\n",
      "2\n",
      "3\n",
      "4\n",
      "5\n",
      "6\n",
      "7\n",
      "8\n",
      "9\n"
     ]
    }
   ],
   "source": [
    "for _ in range(10):\n",
    "    print(_)"
   ]
  },
  {
   "cell_type": "code",
   "execution_count": 51,
   "metadata": {},
   "outputs": [],
   "source": [
    "t = [expovariate(lam=2) for _ in range(1000)]"
   ]
  },
  {
   "cell_type": "markdown",
   "metadata": {},
   "source": [
    "And plotting the CCDF on a log-y scale."
   ]
  },
  {
   "cell_type": "code",
   "execution_count": 52,
   "metadata": {},
   "outputs": [
    {
     "data": {
      "image/png": "[encoded data removed]",
      "text/plain": [
       "<Figure size 432x288 with 1 Axes>"
      ]
     },
     "metadata": {
      "needs_background": "light"
     },
     "output_type": "display_data"
    }
   ],
   "source": [
    "cdf = thinkstats2.Cdf(t)\n",
    "\n",
    "thinkplot.Cdf(cdf, complement=True)\n",
    "thinkplot.Config(xlabel='Exponential variate', \n",
    "                 ylabel='CCDF', \n",
    "                 yscale='log')"
   ]
  },
  {
   "cell_type": "markdown",
   "metadata": {},
   "source": [
    "A straight line is consistent with an exponential distribution."
   ]
  },
  {
   "cell_type": "markdown",
   "metadata": {
    "collapsed": true
   },
   "source": [
    "As an exercise, write a function that generates a Pareto variate."
   ]
  },
  {
   "cell_type": "markdown",
   "metadata": {
    "collapsed": true
   },
   "source": [
    "## Exercises"
   ]
  },
  {
   "cell_type": "markdown",
   "metadata": {},
   "source": [
    "**Exercise:** In the BRFSS (see Section 5.4), the distribution of heights is roughly normal with parameters µ = 178 cm and σ = 7.7 cm for men, and µ = 163 cm and σ = 7.3 cm for women.\n",
    "\n",
    "In order to join Blue Man Group, you have to be male between 5’10” and 6’1” (see http://bluemancasting.com). What percentage of the U.S. male population is in this range? Hint: use `scipy.stats.norm.cdf`."
   ]
  },
  {
   "cell_type": "markdown",
   "metadata": {},
   "source": [
    "`scipy.stats` contains objects that represent analytic distributions"
   ]
  },
  {
   "cell_type": "code",
   "execution_count": 54,
   "metadata": {},
   "outputs": [],
   "source": [
    "import scipy.stats"
   ]
  },
  {
   "cell_type": "markdown",
   "metadata": {},
   "source": [
    "For example <tt>scipy.stats.norm</tt> represents a normal distribution."
   ]
  },
  {
   "cell_type": "code",
   "execution_count": 55,
   "metadata": {},
   "outputs": [
    {
     "data": {
      "text/plain": [
       "scipy.stats._distn_infrastructure.rv_frozen"
      ]
     },
     "execution_count": 55,
     "metadata": {},
     "output_type": "execute_result"
    }
   ],
   "source": [
    "mu = 178\n",
    "sigma = 7.7\n",
    "dist = scipy.stats.norm(loc=mu, scale=sigma)\n",
    "type(dist)"
   ]
  },
  {
   "cell_type": "code",
   "execution_count": 62,
   "metadata": {},
   "outputs": [
    {
     "data": {
      "text/plain": [
       "0.5"
      ]
     },
     "execution_count": 62,
     "metadata": {},
     "output_type": "execute_result"
    }
   ],
   "source": [
    "scipy.stats.norm.cdf(178, loc=mu, scale=sigma)"
   ]
  },
  {
   "cell_type": "markdown",
   "metadata": {},
   "source": [
    "A \"frozen random variable\" can compute its mean and standard deviation."
   ]
  },
  {
   "cell_type": "code",
   "execution_count": 56,
   "metadata": {},
   "outputs": [
    {
     "data": {
      "text/plain": [
       "(178.0, 7.7)"
      ]
     },
     "execution_count": 56,
     "metadata": {},
     "output_type": "execute_result"
    }
   ],
   "source": [
    "dist.mean(), dist.std()"
   ]
  },
  {
   "cell_type": "markdown",
   "metadata": {},
   "source": [
    "It can also evaluate its CDF.  How many people are more than one standard deviation below the mean?  About 16%"
   ]
  },
  {
   "cell_type": "code",
   "execution_count": 57,
   "metadata": {},
   "outputs": [
    {
     "data": {
      "text/plain": [
       "0.1586552539314574"
      ]
     },
     "execution_count": 57,
     "metadata": {},
     "output_type": "execute_result"
    }
   ],
   "source": [
    "dist.cdf(mu-sigma)"
   ]
  },
  {
   "cell_type": "markdown",
   "metadata": {},
   "source": [
    "How many people are between 5'10\" and 6'1\"?"
   ]
  },
  {
   "cell_type": "code",
   "execution_count": 70,
   "metadata": {},
   "outputs": [
    {
     "data": {
      "text/plain": [
       "0.3427468376314737"
      ]
     },
     "execution_count": 70,
     "metadata": {},
     "output_type": "execute_result"
    }
   ],
   "source": [
    "res = dist.cdf(185.42) - dist.cdf(177.8)\n",
    "res"
   ]
  },
  {
   "cell_type": "code",
   "execution_count": 71,
   "metadata": {},
   "outputs": [
    {
     "name": "stdout",
     "output_type": "stream",
     "text": [
      "Approx 34.3% of the US male population is between 5'10'' and 6'1'' in height\n"
     ]
    }
   ],
   "source": [
    "print(\"Approx {:.1f}% of the US male population is between 5'10'' and 6'1'' in height\".format(res*100))"
   ]
  },
  {
   "cell_type": "markdown",
   "metadata": {},
   "source": [
    "**Exercise:** To get a feel for the Pareto distribution, let’s see how different the world would be if the distribution of human height were Pareto. With the parameters xm = 1 m and α = 1.7, we get a distribution with a reasonable minimum, 1 m, and median, 1.5 m.\n",
    "\n",
    "Plot this distribution. What is the mean human height in Pareto world? What fraction of the population is shorter than the mean? If there are 7 billion people in Pareto world, how many do we expect to be taller than 1 km? How tall do we expect the tallest person to be?\n",
    "\n",
    "`scipy.stats.pareto` represents a pareto distribution.  In Pareto world, the distribution of human heights has parameters alpha=1.7 and xmin=1 meter.  So the shortest person is 100 cm and the median is 150."
   ]
  },
  {
   "cell_type": "code",
   "execution_count": 32,
   "metadata": {},
   "outputs": [
    {
     "data": {
      "text/plain": [
       "1.5034066538560549"
      ]
     },
     "execution_count": 32,
     "metadata": {},
     "output_type": "execute_result"
    }
   ],
   "source": [
    "alpha = 1.7\n",
    "xmin = 1       # meter\n",
    "dist = scipy.stats.pareto(b=alpha, scale=xmin)\n",
    "dist.median()"
   ]
  },
  {
   "cell_type": "markdown",
   "metadata": {},
   "source": [
    "What is the mean height in Pareto world?"
   ]
  },
  {
   "cell_type": "code",
   "execution_count": 33,
   "metadata": {},
   "outputs": [],
   "source": [
    "# Solution goes here"
   ]
  },
  {
   "cell_type": "markdown",
   "metadata": {},
   "source": [
    "What fraction of people are shorter than the mean?"
   ]
  },
  {
   "cell_type": "code",
   "execution_count": 34,
   "metadata": {},
   "outputs": [],
   "source": [
    "# Solution goes here"
   ]
  },
  {
   "cell_type": "markdown",
   "metadata": {},
   "source": [
    "Out of 7 billion people, how many do we expect to be taller than 1 km?  You could use <tt>dist.cdf</tt> or <tt>dist.sf</tt>."
   ]
  },
  {
   "cell_type": "code",
   "execution_count": 35,
   "metadata": {},
   "outputs": [],
   "source": [
    "# Solution goes here"
   ]
  },
  {
   "cell_type": "markdown",
   "metadata": {},
   "source": [
    "How tall do we expect the tallest person to be?"
   ]
  },
  {
   "cell_type": "code",
   "execution_count": 36,
   "metadata": {},
   "outputs": [],
   "source": [
    "# Solution goes here"
   ]
  },
  {
   "cell_type": "code",
   "execution_count": 37,
   "metadata": {},
   "outputs": [],
   "source": [
    "# Solution goes here"
   ]
  },
  {
   "cell_type": "markdown",
   "metadata": {},
   "source": [
    "**Exercise:** The Weibull distribution is a generalization of the exponential distribution that comes up in failure analysis (see http://wikipedia.org/wiki/Weibull_distribution). Its CDF is\n",
    "\n",
    "$\\mathrm{CDF}(x) = 1 − \\exp[−(x / λ)^k]$ \n",
    "\n",
    "Can you find a transformation that makes a Weibull distribution look like a straight line? What do the slope and intercept of the line indicate?\n",
    "\n",
    "Use `random.weibullvariate` to generate a sample from a Weibull distribution and use it to test your transformation.\n",
    "\n",
    "Generate a sample from a Weibull distribution and plot it using a transform that makes a Weibull distribution look like a straight line."
   ]
  },
  {
   "cell_type": "markdown",
   "metadata": {},
   "source": [
    "`thinkplot.Cdf` provides a transform that makes the CDF of a Weibull distribution look like a straight line."
   ]
  },
  {
   "cell_type": "code",
   "execution_count": 38,
   "metadata": {},
   "outputs": [
    {
     "data": {
      "image/png": "[encoded data removed]",
      "text/plain": [
       "<Figure size 432x288 with 1 Axes>"
      ]
     },
     "metadata": {},
     "output_type": "display_data"
    }
   ],
   "source": [
    "sample = [random.weibullvariate(2, 1) for _ in range(1000)]\n",
    "cdf = thinkstats2.Cdf(sample)\n",
    "thinkplot.Cdf(cdf, transform='weibull')\n",
    "thinkplot.Config(xlabel='Weibull variate', ylabel='CCDF')"
   ]
  },
  {
   "cell_type": "markdown",
   "metadata": {},
   "source": [
    "**Exercise:** For small values of `n`, we don’t expect an empirical distribution to fit an analytic distribution exactly. One way to evaluate the quality of fit is to generate a sample from an analytic distribution and see how well it matches the data.\n",
    "\n",
    "For example, in Section 5.1 we plotted the distribution of time between births and saw that it is approximately exponential. But the distribution is based on only 44 data points. To see whether the data might have come from an exponential distribution, generate 44 values from an exponential distribution with the same mean as the data, about 33 minutes between births.\n",
    "\n",
    "Plot the distribution of the random values and compare it to the actual distribution. You can use random.expovariate to generate the values."
   ]
  },
  {
   "cell_type": "code",
   "execution_count": 39,
   "metadata": {},
   "outputs": [
    {
     "data": {
      "text/plain": [
       "(32.72727272727273, 28.877692375846223)"
      ]
     },
     "execution_count": 39,
     "metadata": {},
     "output_type": "execute_result"
    }
   ],
   "source": [
    "import analytic\n",
    "\n",
    "df = analytic.ReadBabyBoom()\n",
    "diffs = df.minutes.diff()\n",
    "cdf = thinkstats2.Cdf(diffs, label='actual')\n",
    "\n",
    "n = len(diffs)\n",
    "lam = 44.0 / 24 / 60\n",
    "sample = [random.expovariate(lam) for _ in range(n)]\n",
    "\n",
    "1/lam, np.mean(sample)"
   ]
  },
  {
   "cell_type": "code",
   "execution_count": 40,
   "metadata": {},
   "outputs": [],
   "source": [
    "# Solution goes here"
   ]
  },
  {
   "cell_type": "code",
   "execution_count": 41,
   "metadata": {},
   "outputs": [],
   "source": [
    "# Solution goes here"
   ]
  },
  {
   "cell_type": "markdown",
   "metadata": {},
   "source": [
    "**Worked Example:** The distributions of wealth and income are sometimes modeled using lognormal and Pareto distributions. To see which is better, let’s look at some data.\n",
    "\n",
    "The Current Population Survey (CPS) is a joint effort of the Bureau of Labor Statistics and the Census Bureau to study income and related variables. Data collected in 2013 is available from http://www.census.gov/hhes/www/cpstables/032013/hhinc/toc.htm. I downloaded `hinc06.xls`, which is an Excel spreadsheet with information about household income, and converted it to `hinc06.csv`, a CSV file you will find in the repository for this book. You will also find `hinc.py`, which reads this file.\n",
    "\n",
    "Extract the distribution of incomes from this dataset. Are any of the analytic distributions in this chapter a good model of the data?"
   ]
  },
  {
   "cell_type": "code",
   "execution_count": 42,
   "metadata": {},
   "outputs": [
    {
     "data": {
      "text/html": [
       "<div>\n",
       "<style scoped>\n",
       "    .dataframe tbody tr th:only-of-type {\n",
       "        vertical-align: middle;\n",
       "    }\n",
       "\n",
       "    .dataframe tbody tr th {\n",
       "        vertical-align: top;\n",
       "    }\n",
       "\n",
       "    .dataframe thead th {\n",
       "        text-align: right;\n",
       "    }\n",
       "</style>\n",
       "<table border=\"1\" class=\"dataframe\">\n",
       "  <thead>\n",
       "    <tr style=\"text-align: right;\">\n",
       "      <th></th>\n",
       "      <th>income</th>\n",
       "      <th>freq</th>\n",
       "      <th>cumsum</th>\n",
       "      <th>ps</th>\n",
       "    </tr>\n",
       "  </thead>\n",
       "  <tbody>\n",
       "    <tr>\n",
       "      <th>0</th>\n",
       "      <td>4.999000e+03</td>\n",
       "      <td>4204</td>\n",
       "      <td>4204</td>\n",
       "      <td>0.034330</td>\n",
       "    </tr>\n",
       "    <tr>\n",
       "      <th>1</th>\n",
       "      <td>9.999000e+03</td>\n",
       "      <td>4729</td>\n",
       "      <td>8933</td>\n",
       "      <td>0.072947</td>\n",
       "    </tr>\n",
       "    <tr>\n",
       "      <th>2</th>\n",
       "      <td>1.499900e+04</td>\n",
       "      <td>6982</td>\n",
       "      <td>15915</td>\n",
       "      <td>0.129963</td>\n",
       "    </tr>\n",
       "    <tr>\n",
       "      <th>3</th>\n",
       "      <td>1.999900e+04</td>\n",
       "      <td>7157</td>\n",
       "      <td>23072</td>\n",
       "      <td>0.188407</td>\n",
       "    </tr>\n",
       "    <tr>\n",
       "      <th>4</th>\n",
       "      <td>2.499900e+04</td>\n",
       "      <td>7131</td>\n",
       "      <td>30203</td>\n",
       "      <td>0.246640</td>\n",
       "    </tr>\n",
       "    <tr>\n",
       "      <th>5</th>\n",
       "      <td>2.999900e+04</td>\n",
       "      <td>6740</td>\n",
       "      <td>36943</td>\n",
       "      <td>0.301679</td>\n",
       "    </tr>\n",
       "    <tr>\n",
       "      <th>6</th>\n",
       "      <td>3.499900e+04</td>\n",
       "      <td>6354</td>\n",
       "      <td>43297</td>\n",
       "      <td>0.353566</td>\n",
       "    </tr>\n",
       "    <tr>\n",
       "      <th>7</th>\n",
       "      <td>3.999900e+04</td>\n",
       "      <td>5832</td>\n",
       "      <td>49129</td>\n",
       "      <td>0.401191</td>\n",
       "    </tr>\n",
       "    <tr>\n",
       "      <th>8</th>\n",
       "      <td>4.499900e+04</td>\n",
       "      <td>5547</td>\n",
       "      <td>54676</td>\n",
       "      <td>0.446488</td>\n",
       "    </tr>\n",
       "    <tr>\n",
       "      <th>9</th>\n",
       "      <td>4.999900e+04</td>\n",
       "      <td>5254</td>\n",
       "      <td>59930</td>\n",
       "      <td>0.489392</td>\n",
       "    </tr>\n",
       "    <tr>\n",
       "      <th>10</th>\n",
       "      <td>5.499900e+04</td>\n",
       "      <td>5102</td>\n",
       "      <td>65032</td>\n",
       "      <td>0.531056</td>\n",
       "    </tr>\n",
       "    <tr>\n",
       "      <th>11</th>\n",
       "      <td>5.999900e+04</td>\n",
       "      <td>4256</td>\n",
       "      <td>69288</td>\n",
       "      <td>0.565810</td>\n",
       "    </tr>\n",
       "    <tr>\n",
       "      <th>12</th>\n",
       "      <td>6.499900e+04</td>\n",
       "      <td>4356</td>\n",
       "      <td>73644</td>\n",
       "      <td>0.601382</td>\n",
       "    </tr>\n",
       "    <tr>\n",
       "      <th>13</th>\n",
       "      <td>6.999900e+04</td>\n",
       "      <td>3949</td>\n",
       "      <td>77593</td>\n",
       "      <td>0.633629</td>\n",
       "    </tr>\n",
       "    <tr>\n",
       "      <th>14</th>\n",
       "      <td>7.499900e+04</td>\n",
       "      <td>3756</td>\n",
       "      <td>81349</td>\n",
       "      <td>0.664301</td>\n",
       "    </tr>\n",
       "    <tr>\n",
       "      <th>15</th>\n",
       "      <td>7.999900e+04</td>\n",
       "      <td>3414</td>\n",
       "      <td>84763</td>\n",
       "      <td>0.692180</td>\n",
       "    </tr>\n",
       "    <tr>\n",
       "      <th>16</th>\n",
       "      <td>8.499900e+04</td>\n",
       "      <td>3326</td>\n",
       "      <td>88089</td>\n",
       "      <td>0.719341</td>\n",
       "    </tr>\n",
       "    <tr>\n",
       "      <th>17</th>\n",
       "      <td>8.999900e+04</td>\n",
       "      <td>2643</td>\n",
       "      <td>90732</td>\n",
       "      <td>0.740923</td>\n",
       "    </tr>\n",
       "    <tr>\n",
       "      <th>18</th>\n",
       "      <td>9.499900e+04</td>\n",
       "      <td>2678</td>\n",
       "      <td>93410</td>\n",
       "      <td>0.762792</td>\n",
       "    </tr>\n",
       "    <tr>\n",
       "      <th>19</th>\n",
       "      <td>9.999900e+04</td>\n",
       "      <td>2223</td>\n",
       "      <td>95633</td>\n",
       "      <td>0.780945</td>\n",
       "    </tr>\n",
       "    <tr>\n",
       "      <th>20</th>\n",
       "      <td>1.049990e+05</td>\n",
       "      <td>2606</td>\n",
       "      <td>98239</td>\n",
       "      <td>0.802226</td>\n",
       "    </tr>\n",
       "    <tr>\n",
       "      <th>21</th>\n",
       "      <td>1.099990e+05</td>\n",
       "      <td>1838</td>\n",
       "      <td>100077</td>\n",
       "      <td>0.817235</td>\n",
       "    </tr>\n",
       "    <tr>\n",
       "      <th>22</th>\n",
       "      <td>1.149990e+05</td>\n",
       "      <td>1986</td>\n",
       "      <td>102063</td>\n",
       "      <td>0.833453</td>\n",
       "    </tr>\n",
       "    <tr>\n",
       "      <th>23</th>\n",
       "      <td>1.199990e+05</td>\n",
       "      <td>1464</td>\n",
       "      <td>103527</td>\n",
       "      <td>0.845408</td>\n",
       "    </tr>\n",
       "    <tr>\n",
       "      <th>24</th>\n",
       "      <td>1.249990e+05</td>\n",
       "      <td>1596</td>\n",
       "      <td>105123</td>\n",
       "      <td>0.858441</td>\n",
       "    </tr>\n",
       "    <tr>\n",
       "      <th>25</th>\n",
       "      <td>1.299990e+05</td>\n",
       "      <td>1327</td>\n",
       "      <td>106450</td>\n",
       "      <td>0.869278</td>\n",
       "    </tr>\n",
       "    <tr>\n",
       "      <th>26</th>\n",
       "      <td>1.349990e+05</td>\n",
       "      <td>1253</td>\n",
       "      <td>107703</td>\n",
       "      <td>0.879510</td>\n",
       "    </tr>\n",
       "    <tr>\n",
       "      <th>27</th>\n",
       "      <td>1.399990e+05</td>\n",
       "      <td>1140</td>\n",
       "      <td>108843</td>\n",
       "      <td>0.888819</td>\n",
       "    </tr>\n",
       "    <tr>\n",
       "      <th>28</th>\n",
       "      <td>1.449990e+05</td>\n",
       "      <td>1119</td>\n",
       "      <td>109962</td>\n",
       "      <td>0.897957</td>\n",
       "    </tr>\n",
       "    <tr>\n",
       "      <th>29</th>\n",
       "      <td>1.499990e+05</td>\n",
       "      <td>920</td>\n",
       "      <td>110882</td>\n",
       "      <td>0.905470</td>\n",
       "    </tr>\n",
       "    <tr>\n",
       "      <th>30</th>\n",
       "      <td>1.549990e+05</td>\n",
       "      <td>1143</td>\n",
       "      <td>112025</td>\n",
       "      <td>0.914803</td>\n",
       "    </tr>\n",
       "    <tr>\n",
       "      <th>31</th>\n",
       "      <td>1.599990e+05</td>\n",
       "      <td>805</td>\n",
       "      <td>112830</td>\n",
       "      <td>0.921377</td>\n",
       "    </tr>\n",
       "    <tr>\n",
       "      <th>32</th>\n",
       "      <td>1.649990e+05</td>\n",
       "      <td>731</td>\n",
       "      <td>113561</td>\n",
       "      <td>0.927347</td>\n",
       "    </tr>\n",
       "    <tr>\n",
       "      <th>33</th>\n",
       "      <td>1.699990e+05</td>\n",
       "      <td>575</td>\n",
       "      <td>114136</td>\n",
       "      <td>0.932042</td>\n",
       "    </tr>\n",
       "    <tr>\n",
       "      <th>34</th>\n",
       "      <td>1.749990e+05</td>\n",
       "      <td>616</td>\n",
       "      <td>114752</td>\n",
       "      <td>0.937072</td>\n",
       "    </tr>\n",
       "    <tr>\n",
       "      <th>35</th>\n",
       "      <td>1.799990e+05</td>\n",
       "      <td>570</td>\n",
       "      <td>115322</td>\n",
       "      <td>0.941727</td>\n",
       "    </tr>\n",
       "    <tr>\n",
       "      <th>36</th>\n",
       "      <td>1.849990e+05</td>\n",
       "      <td>502</td>\n",
       "      <td>115824</td>\n",
       "      <td>0.945826</td>\n",
       "    </tr>\n",
       "    <tr>\n",
       "      <th>37</th>\n",
       "      <td>1.899990e+05</td>\n",
       "      <td>364</td>\n",
       "      <td>116188</td>\n",
       "      <td>0.948799</td>\n",
       "    </tr>\n",
       "    <tr>\n",
       "      <th>38</th>\n",
       "      <td>1.949990e+05</td>\n",
       "      <td>432</td>\n",
       "      <td>116620</td>\n",
       "      <td>0.952327</td>\n",
       "    </tr>\n",
       "    <tr>\n",
       "      <th>39</th>\n",
       "      <td>1.999990e+05</td>\n",
       "      <td>378</td>\n",
       "      <td>116998</td>\n",
       "      <td>0.955413</td>\n",
       "    </tr>\n",
       "    <tr>\n",
       "      <th>40</th>\n",
       "      <td>2.499990e+05</td>\n",
       "      <td>2549</td>\n",
       "      <td>119547</td>\n",
       "      <td>0.976229</td>\n",
       "    </tr>\n",
       "    <tr>\n",
       "      <th>41</th>\n",
       "      <td>inf</td>\n",
       "      <td>2911</td>\n",
       "      <td>122458</td>\n",
       "      <td>1.000000</td>\n",
       "    </tr>\n",
       "  </tbody>\n",
       "</table>\n",
       "</div>"
      ],
      "text/plain": [
       "          income  freq  cumsum        ps\n",
       "0   4.999000e+03  4204    4204  0.034330\n",
       "1   9.999000e+03  4729    8933  0.072947\n",
       "2   1.499900e+04  6982   15915  0.129963\n",
       "3   1.999900e+04  7157   23072  0.188407\n",
       "4   2.499900e+04  7131   30203  0.246640\n",
       "5   2.999900e+04  6740   36943  0.301679\n",
       "6   3.499900e+04  6354   43297  0.353566\n",
       "7   3.999900e+04  5832   49129  0.401191\n",
       "8   4.499900e+04  5547   54676  0.446488\n",
       "9   4.999900e+04  5254   59930  0.489392\n",
       "10  5.499900e+04  5102   65032  0.531056\n",
       "11  5.999900e+04  4256   69288  0.565810\n",
       "12  6.499900e+04  4356   73644  0.601382\n",
       "13  6.999900e+04  3949   77593  0.633629\n",
       "14  7.499900e+04  3756   81349  0.664301\n",
       "15  7.999900e+04  3414   84763  0.692180\n",
       "16  8.499900e+04  3326   88089  0.719341\n",
       "17  8.999900e+04  2643   90732  0.740923\n",
       "18  9.499900e+04  2678   93410  0.762792\n",
       "19  9.999900e+04  2223   95633  0.780945\n",
       "20  1.049990e+05  2606   98239  0.802226\n",
       "21  1.099990e+05  1838  100077  0.817235\n",
       "22  1.149990e+05  1986  102063  0.833453\n",
       "23  1.199990e+05  1464  103527  0.845408\n",
       "24  1.249990e+05  1596  105123  0.858441\n",
       "25  1.299990e+05  1327  106450  0.869278\n",
       "26  1.349990e+05  1253  107703  0.879510\n",
       "27  1.399990e+05  1140  108843  0.888819\n",
       "28  1.449990e+05  1119  109962  0.897957\n",
       "29  1.499990e+05   920  110882  0.905470\n",
       "30  1.549990e+05  1143  112025  0.914803\n",
       "31  1.599990e+05   805  112830  0.921377\n",
       "32  1.649990e+05   731  113561  0.927347\n",
       "33  1.699990e+05   575  114136  0.932042\n",
       "34  1.749990e+05   616  114752  0.937072\n",
       "35  1.799990e+05   570  115322  0.941727\n",
       "36  1.849990e+05   502  115824  0.945826\n",
       "37  1.899990e+05   364  116188  0.948799\n",
       "38  1.949990e+05   432  116620  0.952327\n",
       "39  1.999990e+05   378  116998  0.955413\n",
       "40  2.499990e+05  2549  119547  0.976229\n",
       "41           inf  2911  122458  1.000000"
      ]
     },
     "execution_count": 42,
     "metadata": {},
     "output_type": "execute_result"
    }
   ],
   "source": [
    "import hinc\n",
    "df = hinc.ReadData()\n",
    "df"
   ]
  },
  {
   "cell_type": "markdown",
   "metadata": {},
   "source": [
    "Here's what the CDF looks like on a linear scale."
   ]
  },
  {
   "cell_type": "code",
   "execution_count": 43,
   "metadata": {},
   "outputs": [
    {
     "data": {
      "image/png": "[encoded data removed]",
      "text/plain": [
       "<Figure size 432x288 with 1 Axes>"
      ]
     },
     "metadata": {},
     "output_type": "display_data"
    }
   ],
   "source": [
    "xs, ps = df.income.values, df.ps.values\n",
    "cdf = thinkstats2.Cdf(xs, ps, label='data')\n",
    "cdf_log = thinkstats2.Cdf(np.log10(xs), ps, label='data')\n",
    "    \n",
    "# linear plot\n",
    "thinkplot.Cdf(cdf) \n",
    "thinkplot.Config(xlabel='household income',\n",
    "                   ylabel='CDF')"
   ]
  },
  {
   "cell_type": "markdown",
   "metadata": {},
   "source": [
    "To check whether a Pareto model describes the data well, I plot the CCDF on a log-log scale.\n",
    "\n",
    "I found parameters for the Pareto model that match the tail of the distribution."
   ]
  },
  {
   "cell_type": "code",
   "execution_count": 44,
   "metadata": {},
   "outputs": [
    {
     "data": {
      "image/png": "[encoded data removed]",
      "text/plain": [
       "<Figure size 432x288 with 1 Axes>"
      ]
     },
     "metadata": {},
     "output_type": "display_data"
    }
   ],
   "source": [
    "xs, ys = thinkstats2.RenderParetoCdf(xmin=55000, alpha=2.5, \n",
    "                                     low=0, high=250000)\n",
    "\n",
    "thinkplot.Plot(xs, 1-ys, label='model', color='0.8')\n",
    "\n",
    "thinkplot.Cdf(cdf, complement=True) \n",
    "thinkplot.Config(xlabel='log10 household income',\n",
    "                 ylabel='CCDF',\n",
    "                 xscale='log',\n",
    "                 yscale='log', \n",
    "                 loc='lower left')"
   ]
  },
  {
   "cell_type": "markdown",
   "metadata": {},
   "source": [
    "For the lognormal model I estimate mu and sigma using percentile-based statistics (median and IQR)."
   ]
  },
  {
   "cell_type": "code",
   "execution_count": 45,
   "metadata": {},
   "outputs": [
    {
     "name": "stdout",
     "output_type": "stream",
     "text": [
      "4.740354793159152 0.35\n"
     ]
    }
   ],
   "source": [
    "median = cdf_log.Percentile(50)\n",
    "iqr = cdf_log.Percentile(75) - cdf_log.Percentile(25)\n",
    "std = iqr / 1.349\n",
    "\n",
    "# choose std to match the upper tail\n",
    "std = 0.35\n",
    "print(median, std)"
   ]
  },
  {
   "cell_type": "markdown",
   "metadata": {},
   "source": [
    "Here's what the distribution, and fitted model, look like on a log-x scale."
   ]
  },
  {
   "cell_type": "code",
   "execution_count": 46,
   "metadata": {},
   "outputs": [
    {
     "data": {
      "image/png": "[encoded data removed]",
      "text/plain": [
       "<Figure size 432x288 with 1 Axes>"
      ]
     },
     "metadata": {},
     "output_type": "display_data"
    }
   ],
   "source": [
    "xs, ps = thinkstats2.RenderNormalCdf(median, std, low=3.5, high=5.5)\n",
    "thinkplot.Plot(xs, ps, label='model', color='0.8')\n",
    "\n",
    "thinkplot.Cdf(cdf_log) \n",
    "thinkplot.Config(xlabel='log10 household income',\n",
    "                 ylabel='CDF')"
   ]
  },
  {
   "cell_type": "markdown",
   "metadata": {},
   "source": [
    "My conclusions based on these figures are:\n",
    "\n",
    "1) The Pareto model might be a reasonable choice for the top\n",
    "   10-20% of incomes.\n",
    "\n",
    "2) The lognormal model captures the shape of the distribution better,\n",
    "   with some deviation in the left tail.  With different\n",
    "   choices for sigma, you could match the upper or lower tail, but not\n",
    "   both at the same time.\n",
    " \n",
    "In summary I would say that neither model captures the whole distribution,\n",
    "so you might have to \n",
    "\n",
    "1) look for another analytic model, \n",
    "\n",
    "2) choose one that captures the part of the distribution that is most \n",
    "   relevent, or \n",
    "\n",
    "3) avoid using an analytic model altogether."
   ]
  },
  {
   "cell_type": "code",
   "execution_count": null,
   "metadata": {},
   "outputs": [],
   "source": []
  }
 ],
 "metadata": {
  "kernelspec": {
   "display_name": "Python 3",
   "language": "python",
   "name": "python3"
  },
  "language_info": {
   "codemirror_mode": {
    "name": "ipython",
    "version": 3
   },
   "file_extension": ".py",
   "mimetype": "text/x-python",
   "name": "python",
   "nbconvert_exporter": "python",
   "pygments_lexer": "ipython3",
   "version": "3.7.6"
  }
 },
 "nbformat": 4,
 "nbformat_minor": 1
}
